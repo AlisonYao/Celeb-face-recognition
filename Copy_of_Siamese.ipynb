{
  "nbformat": 4,
  "nbformat_minor": 0,
  "metadata": {
    "colab": {
      "provenance": []
    },
    "kernelspec": {
      "name": "python3",
      "display_name": "Python 3"
    },
    "language_info": {
      "name": "python"
    },
    "gpuClass": "standard",
    "accelerator": "GPU"
  },
  "cells": [
    {
      "cell_type": "markdown",
      "source": [
        "https://pub.towardsai.net/how-to-create-a-siamese-network-with-keras-to-compare-images-5713b3ee7a28\n",
        "\n",
        "Notebook: https://www.kaggle.com/code/peremartramanonellas/how-to-create-a-siamese-network-to-compare-images#Creating-the-Siamese-Model"
      ],
      "metadata": {
        "id": "4tuWhsFiYEhG"
      }
    },
    {
      "cell_type": "code",
      "source": [
        "from google.colab import drive\n",
        "drive.mount('/content/drive')"
      ],
      "metadata": {
        "colab": {
          "base_uri": "https://localhost:8080/"
        },
        "id": "_VqCkAR99gMU",
        "outputId": "5d25f54c-7d57-4c56-a90d-607fff363328"
      },
      "execution_count": null,
      "outputs": [
        {
          "output_type": "stream",
          "name": "stdout",
          "text": [
            "Mounted at /content/drive\n"
          ]
        }
      ]
    },
    {
      "cell_type": "code",
      "source": [
        "import numpy as np\n",
        "np.random.seed(123)\n",
        "import pandas as pd\n",
        "import matplotlib.pyplot as plt\n",
        "import matplotlib.image as mpimg\n",
        "from matplotlib import rcParams\n",
        "%matplotlib inline\n",
        "import cv2\n",
        "from google.colab.patches import cv2_imshow\n",
        "from glob import glob\n",
        "from tqdm import tqdm\n",
        "import os\n",
        "\n",
        "\n",
        "# Tensorflow\n",
        "import tensorflow as tf\n",
        "from tensorflow import keras\n",
        "from tensorflow.keras.models import load_model, Model\n",
        "from tensorflow.keras.layers import Input, Flatten, Dense, Dropout, Lambda, Conv2D, MaxPooling2D, BatchNormalization\n",
        "from tensorflow.keras import backend as K\n",
        "from tensorflow.keras.optimizers import Adam\n",
        "from tensorflow.keras.utils import plot_model\n",
        "from tensorflow.keras.applications import resnet"
      ],
      "metadata": {
        "id": "Zdi3gKc3XSP9"
      },
      "execution_count": null,
      "outputs": []
    },
    {
      "cell_type": "code",
      "source": [
        "# Enable/Disable Eager Execution\n",
        "# Reference: https://www.tensorflow.org/guide/eager\n",
        "# TensorFlow's eager execution is an imperative programming environment that evaluates operations immediately,\n",
        "# without building graphs\n",
        "\n",
        "#tf.compat.v1.disable_eager_execution()\n",
        "#tf.compat.v1.enable_eager_execution()\n",
        "\n",
        "print(\"tensorflow version\", tf.__version__)\n",
        "print(\"keras version\", tf.keras.__version__)\n",
        "print(\"Eager Execution Enabled:\", tf.executing_eagerly())\n",
        "\n",
        "# Get the number of replicas\n",
        "strategy = tf.distribute.MirroredStrategy()\n",
        "print(\"Number of replicas:\", strategy.num_replicas_in_sync)\n",
        "\n",
        "devices = tf.config.experimental.get_visible_devices()\n",
        "print(\"Devices:\", devices)\n",
        "print(tf.config.experimental.list_logical_devices('GPU'))\n",
        "\n",
        "print(\"GPU Available: \", tf.config.list_physical_devices('GPU'))\n",
        "print(\"All Physical Devices\", tf.config.list_physical_devices())\n",
        "\n",
        "# Better performance with the tf.data API\n",
        "# Reference: https://www.tensorflow.org/guide/data_performance\n",
        "AUTOTUNE = tf.data.experimental.AUTOTUNE"
      ],
      "metadata": {
        "colab": {
          "base_uri": "https://localhost:8080/"
        },
        "id": "OyMItroXC32p",
        "outputId": "d72a98cd-72f1-4f21-ae7a-eb0015a2e9ab"
      },
      "execution_count": null,
      "outputs": [
        {
          "output_type": "stream",
          "name": "stderr",
          "text": [
            "WARNING:tensorflow:There are non-GPU devices in `tf.distribute.Strategy`, not using nccl allreduce.\n"
          ]
        },
        {
          "output_type": "stream",
          "name": "stdout",
          "text": [
            "tensorflow version 2.12.0\n",
            "keras version 2.12.0\n",
            "Eager Execution Enabled: True\n",
            "Number of replicas: 1\n",
            "Devices: [PhysicalDevice(name='/physical_device:CPU:0', device_type='CPU')]\n",
            "[]\n",
            "GPU Available:  []\n",
            "All Physical Devices [PhysicalDevice(name='/physical_device:CPU:0', device_type='CPU')]\n"
          ]
        }
      ]
    },
    {
      "cell_type": "code",
      "source": [
        "!nvidia-smi"
      ],
      "metadata": {
        "colab": {
          "base_uri": "https://localhost:8080/"
        },
        "id": "EI-9j_AyC_ZZ",
        "outputId": "744002da-d038-43cc-db4a-fc3f3940c594"
      },
      "execution_count": null,
      "outputs": [
        {
          "output_type": "stream",
          "name": "stdout",
          "text": [
            "Sat Apr 22 19:32:39 2023       \n",
            "+-----------------------------------------------------------------------------+\n",
            "| NVIDIA-SMI 525.85.12    Driver Version: 525.85.12    CUDA Version: 12.0     |\n",
            "|-------------------------------+----------------------+----------------------+\n",
            "| GPU  Name        Persistence-M| Bus-Id        Disp.A | Volatile Uncorr. ECC |\n",
            "| Fan  Temp  Perf  Pwr:Usage/Cap|         Memory-Usage | GPU-Util  Compute M. |\n",
            "|                               |                      |               MIG M. |\n",
            "|===============================+======================+======================|\n",
            "|   0  Tesla T4            Off  | 00000000:00:04.0 Off |                    0 |\n",
            "| N/A   49C    P0    28W /  70W |    375MiB / 15360MiB |      0%      Default |\n",
            "|                               |                      |                  N/A |\n",
            "+-------------------------------+----------------------+----------------------+\n",
            "                                                                               \n",
            "+-----------------------------------------------------------------------------+\n",
            "| Processes:                                                                  |\n",
            "|  GPU   GI   CI        PID   Type   Process name                  GPU Memory |\n",
            "|        ID   ID                                                   Usage      |\n",
            "|=============================================================================|\n",
            "+-----------------------------------------------------------------------------+\n"
          ]
        }
      ]
    },
    {
      "cell_type": "markdown",
      "source": [
        "# Data\n",
        "\n",
        "- identity data\n",
        "\n",
        "- unzip & import images\n",
        "\n",
        "- prepare training data for siamese network with input being (img1, img2) and label = 1 or 0 (indicating the same person or not)\n",
        "\n",
        "- organize everything in tensorflow format"
      ],
      "metadata": {
        "id": "bSxrkZeBXOtY"
      }
    },
    {
      "cell_type": "code",
      "source": [
        "!unzip /content/drive/MyDrive/Facial_Recognition_Project/CelebA/img_align_celeba.zip > /dev/null"
      ],
      "metadata": {
        "id": "GekVA3b69bMg"
      },
      "execution_count": null,
      "outputs": []
    },
    {
      "cell_type": "code",
      "execution_count": null,
      "metadata": {
        "id": "8EvRFqppWoAw",
        "colab": {
          "base_uri": "https://localhost:8080/",
          "height": 206
        },
        "outputId": "36e1b3b0-d85d-4083-e6b2-2624920985da"
      },
      "outputs": [
        {
          "output_type": "execute_result",
          "data": {
            "text/plain": [
              "        image    ID\n",
              "0  000001.jpg  2880\n",
              "1  000002.jpg  2937\n",
              "2  000003.jpg  8692\n",
              "3  000004.jpg  5805\n",
              "4  000005.jpg  9295"
            ],
            "text/html": [
              "\n",
              "  <div id=\"df-dd1c6b00-a50b-477d-b779-4392c13ed866\">\n",
              "    <div class=\"colab-df-container\">\n",
              "      <div>\n",
              "<style scoped>\n",
              "    .dataframe tbody tr th:only-of-type {\n",
              "        vertical-align: middle;\n",
              "    }\n",
              "\n",
              "    .dataframe tbody tr th {\n",
              "        vertical-align: top;\n",
              "    }\n",
              "\n",
              "    .dataframe thead th {\n",
              "        text-align: right;\n",
              "    }\n",
              "</style>\n",
              "<table border=\"1\" class=\"dataframe\">\n",
              "  <thead>\n",
              "    <tr style=\"text-align: right;\">\n",
              "      <th></th>\n",
              "      <th>image</th>\n",
              "      <th>ID</th>\n",
              "    </tr>\n",
              "  </thead>\n",
              "  <tbody>\n",
              "    <tr>\n",
              "      <th>0</th>\n",
              "      <td>000001.jpg</td>\n",
              "      <td>2880</td>\n",
              "    </tr>\n",
              "    <tr>\n",
              "      <th>1</th>\n",
              "      <td>000002.jpg</td>\n",
              "      <td>2937</td>\n",
              "    </tr>\n",
              "    <tr>\n",
              "      <th>2</th>\n",
              "      <td>000003.jpg</td>\n",
              "      <td>8692</td>\n",
              "    </tr>\n",
              "    <tr>\n",
              "      <th>3</th>\n",
              "      <td>000004.jpg</td>\n",
              "      <td>5805</td>\n",
              "    </tr>\n",
              "    <tr>\n",
              "      <th>4</th>\n",
              "      <td>000005.jpg</td>\n",
              "      <td>9295</td>\n",
              "    </tr>\n",
              "  </tbody>\n",
              "</table>\n",
              "</div>\n",
              "      <button class=\"colab-df-convert\" onclick=\"convertToInteractive('df-dd1c6b00-a50b-477d-b779-4392c13ed866')\"\n",
              "              title=\"Convert this dataframe to an interactive table.\"\n",
              "              style=\"display:none;\">\n",
              "        \n",
              "  <svg xmlns=\"http://www.w3.org/2000/svg\" height=\"24px\"viewBox=\"0 0 24 24\"\n",
              "       width=\"24px\">\n",
              "    <path d=\"M0 0h24v24H0V0z\" fill=\"none\"/>\n",
              "    <path d=\"M18.56 5.44l.94 2.06.94-2.06 2.06-.94-2.06-.94-.94-2.06-.94 2.06-2.06.94zm-11 1L8.5 8.5l.94-2.06 2.06-.94-2.06-.94L8.5 2.5l-.94 2.06-2.06.94zm10 10l.94 2.06.94-2.06 2.06-.94-2.06-.94-.94-2.06-.94 2.06-2.06.94z\"/><path d=\"M17.41 7.96l-1.37-1.37c-.4-.4-.92-.59-1.43-.59-.52 0-1.04.2-1.43.59L10.3 9.45l-7.72 7.72c-.78.78-.78 2.05 0 2.83L4 21.41c.39.39.9.59 1.41.59.51 0 1.02-.2 1.41-.59l7.78-7.78 2.81-2.81c.8-.78.8-2.07 0-2.86zM5.41 20L4 18.59l7.72-7.72 1.47 1.35L5.41 20z\"/>\n",
              "  </svg>\n",
              "      </button>\n",
              "      \n",
              "  <style>\n",
              "    .colab-df-container {\n",
              "      display:flex;\n",
              "      flex-wrap:wrap;\n",
              "      gap: 12px;\n",
              "    }\n",
              "\n",
              "    .colab-df-convert {\n",
              "      background-color: #E8F0FE;\n",
              "      border: none;\n",
              "      border-radius: 50%;\n",
              "      cursor: pointer;\n",
              "      display: none;\n",
              "      fill: #1967D2;\n",
              "      height: 32px;\n",
              "      padding: 0 0 0 0;\n",
              "      width: 32px;\n",
              "    }\n",
              "\n",
              "    .colab-df-convert:hover {\n",
              "      background-color: #E2EBFA;\n",
              "      box-shadow: 0px 1px 2px rgba(60, 64, 67, 0.3), 0px 1px 3px 1px rgba(60, 64, 67, 0.15);\n",
              "      fill: #174EA6;\n",
              "    }\n",
              "\n",
              "    [theme=dark] .colab-df-convert {\n",
              "      background-color: #3B4455;\n",
              "      fill: #D2E3FC;\n",
              "    }\n",
              "\n",
              "    [theme=dark] .colab-df-convert:hover {\n",
              "      background-color: #434B5C;\n",
              "      box-shadow: 0px 1px 3px 1px rgba(0, 0, 0, 0.15);\n",
              "      filter: drop-shadow(0px 1px 2px rgba(0, 0, 0, 0.3));\n",
              "      fill: #FFFFFF;\n",
              "    }\n",
              "  </style>\n",
              "\n",
              "      <script>\n",
              "        const buttonEl =\n",
              "          document.querySelector('#df-dd1c6b00-a50b-477d-b779-4392c13ed866 button.colab-df-convert');\n",
              "        buttonEl.style.display =\n",
              "          google.colab.kernel.accessAllowed ? 'block' : 'none';\n",
              "\n",
              "        async function convertToInteractive(key) {\n",
              "          const element = document.querySelector('#df-dd1c6b00-a50b-477d-b779-4392c13ed866');\n",
              "          const dataTable =\n",
              "            await google.colab.kernel.invokeFunction('convertToInteractive',\n",
              "                                                     [key], {});\n",
              "          if (!dataTable) return;\n",
              "\n",
              "          const docLinkHtml = 'Like what you see? Visit the ' +\n",
              "            '<a target=\"_blank\" href=https://colab.research.google.com/notebooks/data_table.ipynb>data table notebook</a>'\n",
              "            + ' to learn more about interactive tables.';\n",
              "          element.innerHTML = '';\n",
              "          dataTable['output_type'] = 'display_data';\n",
              "          await google.colab.output.renderOutput(dataTable, element);\n",
              "          const docLink = document.createElement('div');\n",
              "          docLink.innerHTML = docLinkHtml;\n",
              "          element.appendChild(docLink);\n",
              "        }\n",
              "      </script>\n",
              "    </div>\n",
              "  </div>\n",
              "  "
            ]
          },
          "metadata": {},
          "execution_count": 5
        }
      ],
      "source": [
        "identity_df = pd.read_csv('/content/drive/MyDrive/Facial_Recognition_Project/CelebA/identity_CelebA.txt', sep=' ', header=None)\n",
        "identity_df = identity_df.rename(columns={0:'image', 1:'ID'})\n",
        "identity_df.head()"
      ]
    },
    {
      "cell_type": "code",
      "source": [
        "img = cv2.imread('img_align_celeba/000001.jpg')\n",
        "print(img.shape)\n",
        "cv2_imshow(img)"
      ],
      "metadata": {
        "colab": {
          "base_uri": "https://localhost:8080/",
          "height": 253
        },
        "id": "xOeoY4WR-Pp8",
        "outputId": "9d60597b-b673-4380-98f2-f1371d7d3a52"
      },
      "execution_count": null,
      "outputs": [
        {
          "output_type": "stream",
          "name": "stdout",
          "text": [
            "(218, 178, 3)\n"
          ]
        },
        {
          "output_type": "display_data",
          "data": {
            "text/plain": [
              "<PIL.Image.Image image mode=RGB size=178x218 at 0x7F0B3ADD8CD0>"
            ],
            "image/png": "[encoded data removed]"
          },
          "metadata": {}
        }
      ]
    },
    {
      "cell_type": "code",
      "source": [
        "# Input Images\n",
        "data_img = glob('img_align_celeba/*.jpg')\n",
        "print(\"Image count:\",len(data_img))\n",
        "print(data_img[:5])"
      ],
      "metadata": {
        "colab": {
          "base_uri": "https://localhost:8080/"
        },
        "id": "-igeQzV0A6UW",
        "outputId": "db1cffd6-a811-42e0-e393-d3417d071fbf"
      },
      "execution_count": null,
      "outputs": [
        {
          "output_type": "stream",
          "name": "stdout",
          "text": [
            "Image count: 202599\n",
            "['img_align_celeba/158169.jpg', 'img_align_celeba/155412.jpg', 'img_align_celeba/077650.jpg', 'img_align_celeba/109323.jpg', 'img_align_celeba/029503.jpg']\n"
          ]
        }
      ]
    },
    {
      "cell_type": "code",
      "source": [
        "def make_pairs_label(data_img, identity_df, pos_size=7000, neg_size=25000):\n",
        "    def positive_pairs(data_img, identity_df, size):\n",
        "        df = []\n",
        "        identity_group_df = identity_df.groupby('ID')['image'].apply(list).reset_index(name='grouped')\n",
        "        while len(df) < size:\n",
        "            grouped_list = identity_group_df.sample()['grouped'].tolist()[0]\n",
        "            if len(grouped_list) < 2:\n",
        "                continue\n",
        "            img1_name, img2_name = np.random.choice(grouped_list, size=2, replace=False)\n",
        "            img1 = 'img_align_celeba/' + img1_name\n",
        "            img2 = 'img_align_celeba/' + img2_name\n",
        "            identity1 = identity_df[identity_df['image'] == img1_name]['ID'].item()\n",
        "            identity2 = identity_df[identity_df['image'] == img2_name]['ID'].item()\n",
        "            label = int(identity1 == identity2)\n",
        "            assert label == 1\n",
        "            # update df\n",
        "            if int(img1_name[:6]) < int(img2_name[:6]):\n",
        "                df.append([img1, img2, label])\n",
        "            else:\n",
        "                df.append([img2, img1, label])\n",
        "        df = pd.DataFrame(df, columns=['X1', 'X2', 'label'])\n",
        "        return df\n",
        "\n",
        "    def negative_pairs(data_img, identity_df, size):\n",
        "        df = []\n",
        "        while len(df) < size:\n",
        "            img1, img2 = np.random.choice(data_img, size=2, replace=False)\n",
        "            img1_name = img1.split('/')[-1]\n",
        "            img2_name = img2.split('/')[-1]\n",
        "            identity1 = identity_df[identity_df['image'] == img1_name]['ID'].item()\n",
        "            identity2 = identity_df[identity_df['image'] == img2_name]['ID'].item()\n",
        "            label = int(identity1 == identity2)\n",
        "            if label == 0:\n",
        "                # update df\n",
        "                if int(img1_name[:6]) < int(img2_name[:6]):\n",
        "                    df.append([img1, img2, label])\n",
        "                else:\n",
        "                    df.append([img2, img1, label])\n",
        "        df = pd.DataFrame(df, columns=['X1', 'X2', 'label'])\n",
        "        return df\n",
        "\n",
        "    # typically random sampling from the entire dataset gives us negative pairs\n",
        "    neg_df = negative_pairs(data_img, identity_df, neg_size)\n",
        "    print('Negative pairs ready!')\n",
        "    # it is very different to get positive pairs the same way\n",
        "    pos_df = positive_pairs(data_img, identity_df, pos_size)\n",
        "    print('Positive pairs ready!')\n",
        "    df = pd.concat([pos_df, neg_df])\n",
        "    df.drop_duplicates(inplace=True)\n",
        "    df = df.sample(frac=1).reset_index(drop=True) # shuffle and reindex\n",
        "    return df\n",
        "\n",
        "paired_data_path = '/content/drive/MyDrive/Facial_Recognition_Project/CelebA/paired_data_7k14k.csv'\n",
        "\n",
        "if os.path.exists(paired_data_path):\n",
        "    paired_data_df = pd.read_csv(paired_data_path)\n",
        "'''\n",
        "else:\n",
        "    paired_data_df = make_pairs_label(data_img, identity_df) #, pos_size=7000, neg_size=14000)\n",
        "    # save df so that we don't have to rerun every time\n",
        "    paired_data_df.to_csv(paired_data_path)\n",
        "'''\n",
        "\n",
        "paired_data_df.head(10)"
      ],
      "metadata": {
        "colab": {
          "base_uri": "https://localhost:8080/",
          "height": 363
        },
        "id": "XlQF28shEO0L",
        "outputId": "7805f175-5172-4188-bc3d-bd909b352e56"
      },
      "execution_count": null,
      "outputs": [
        {
          "output_type": "execute_result",
          "data": {
            "text/plain": [
              "   Unnamed: 0                           X1                           X2  label\n",
              "0           0  img_align_celeba/048896.jpg  img_align_celeba/090218.jpg      0\n",
              "1           1  img_align_celeba/046028.jpg  img_align_celeba/066430.jpg      1\n",
              "2           2  img_align_celeba/056916.jpg  img_align_celeba/143847.jpg      1\n",
              "3           3  img_align_celeba/003954.jpg  img_align_celeba/007730.jpg      0\n",
              "4           4  img_align_celeba/134503.jpg  img_align_celeba/170323.jpg      0\n",
              "5           5  img_align_celeba/003129.jpg  img_align_celeba/085998.jpg      0\n",
              "6           6  img_align_celeba/003710.jpg  img_align_celeba/117620.jpg      0\n",
              "7           7  img_align_celeba/082721.jpg  img_align_celeba/194865.jpg      0\n",
              "8           8  img_align_celeba/111931.jpg  img_align_celeba/196059.jpg      0\n",
              "9           9  img_align_celeba/165927.jpg  img_align_celeba/182374.jpg      1"
            ],
            "text/html": [
              "\n",
              "  <div id=\"df-7a440d1a-dbf0-4227-bc65-cfb1e4f06661\">\n",
              "    <div class=\"colab-df-container\">\n",
              "      <div>\n",
              "<style scoped>\n",
              "    .dataframe tbody tr th:only-of-type {\n",
              "        vertical-align: middle;\n",
              "    }\n",
              "\n",
              "    .dataframe tbody tr th {\n",
              "        vertical-align: top;\n",
              "    }\n",
              "\n",
              "    .dataframe thead th {\n",
              "        text-align: right;\n",
              "    }\n",
              "</style>\n",
              "<table border=\"1\" class=\"dataframe\">\n",
              "  <thead>\n",
              "    <tr style=\"text-align: right;\">\n",
              "      <th></th>\n",
              "      <th>Unnamed: 0</th>\n",
              "      <th>X1</th>\n",
              "      <th>X2</th>\n",
              "      <th>label</th>\n",
              "    </tr>\n",
              "  </thead>\n",
              "  <tbody>\n",
              "    <tr>\n",
              "      <th>0</th>\n",
              "      <td>0</td>\n",
              "      <td>img_align_celeba/048896.jpg</td>\n",
              "      <td>img_align_celeba/090218.jpg</td>\n",
              "      <td>0</td>\n",
              "    </tr>\n",
              "    <tr>\n",
              "      <th>1</th>\n",
              "      <td>1</td>\n",
              "      <td>img_align_celeba/046028.jpg</td>\n",
              "      <td>img_align_celeba/066430.jpg</td>\n",
              "      <td>1</td>\n",
              "    </tr>\n",
              "    <tr>\n",
              "      <th>2</th>\n",
              "      <td>2</td>\n",
              "      <td>img_align_celeba/056916.jpg</td>\n",
              "      <td>img_align_celeba/143847.jpg</td>\n",
              "      <td>1</td>\n",
              "    </tr>\n",
              "    <tr>\n",
              "      <th>3</th>\n",
              "      <td>3</td>\n",
              "      <td>img_align_celeba/003954.jpg</td>\n",
              "      <td>img_align_celeba/007730.jpg</td>\n",
              "      <td>0</td>\n",
              "    </tr>\n",
              "    <tr>\n",
              "      <th>4</th>\n",
              "      <td>4</td>\n",
              "      <td>img_align_celeba/134503.jpg</td>\n",
              "      <td>img_align_celeba/170323.jpg</td>\n",
              "      <td>0</td>\n",
              "    </tr>\n",
              "    <tr>\n",
              "      <th>5</th>\n",
              "      <td>5</td>\n",
              "      <td>img_align_celeba/003129.jpg</td>\n",
              "      <td>img_align_celeba/085998.jpg</td>\n",
              "      <td>0</td>\n",
              "    </tr>\n",
              "    <tr>\n",
              "      <th>6</th>\n",
              "      <td>6</td>\n",
              "      <td>img_align_celeba/003710.jpg</td>\n",
              "      <td>img_align_celeba/117620.jpg</td>\n",
              "      <td>0</td>\n",
              "    </tr>\n",
              "    <tr>\n",
              "      <th>7</th>\n",
              "      <td>7</td>\n",
              "      <td>img_align_celeba/082721.jpg</td>\n",
              "      <td>img_align_celeba/194865.jpg</td>\n",
              "      <td>0</td>\n",
              "    </tr>\n",
              "    <tr>\n",
              "      <th>8</th>\n",
              "      <td>8</td>\n",
              "      <td>img_align_celeba/111931.jpg</td>\n",
              "      <td>img_align_celeba/196059.jpg</td>\n",
              "      <td>0</td>\n",
              "    </tr>\n",
              "    <tr>\n",
              "      <th>9</th>\n",
              "      <td>9</td>\n",
              "      <td>img_align_celeba/165927.jpg</td>\n",
              "      <td>img_align_celeba/182374.jpg</td>\n",
              "      <td>1</td>\n",
              "    </tr>\n",
              "  </tbody>\n",
              "</table>\n",
              "</div>\n",
              "      <button class=\"colab-df-convert\" onclick=\"convertToInteractive('df-7a440d1a-dbf0-4227-bc65-cfb1e4f06661')\"\n",
              "              title=\"Convert this dataframe to an interactive table.\"\n",
              "              style=\"display:none;\">\n",
              "        \n",
              "  <svg xmlns=\"http://www.w3.org/2000/svg\" height=\"24px\"viewBox=\"0 0 24 24\"\n",
              "       width=\"24px\">\n",
              "    <path d=\"M0 0h24v24H0V0z\" fill=\"none\"/>\n",
              "    <path d=\"M18.56 5.44l.94 2.06.94-2.06 2.06-.94-2.06-.94-.94-2.06-.94 2.06-2.06.94zm-11 1L8.5 8.5l.94-2.06 2.06-.94-2.06-.94L8.5 2.5l-.94 2.06-2.06.94zm10 10l.94 2.06.94-2.06 2.06-.94-2.06-.94-.94-2.06-.94 2.06-2.06.94z\"/><path d=\"M17.41 7.96l-1.37-1.37c-.4-.4-.92-.59-1.43-.59-.52 0-1.04.2-1.43.59L10.3 9.45l-7.72 7.72c-.78.78-.78 2.05 0 2.83L4 21.41c.39.39.9.59 1.41.59.51 0 1.02-.2 1.41-.59l7.78-7.78 2.81-2.81c.8-.78.8-2.07 0-2.86zM5.41 20L4 18.59l7.72-7.72 1.47 1.35L5.41 20z\"/>\n",
              "  </svg>\n",
              "      </button>\n",
              "      \n",
              "  <style>\n",
              "    .colab-df-container {\n",
              "      display:flex;\n",
              "      flex-wrap:wrap;\n",
              "      gap: 12px;\n",
              "    }\n",
              "\n",
              "    .colab-df-convert {\n",
              "      background-color: #E8F0FE;\n",
              "      border: none;\n",
              "      border-radius: 50%;\n",
              "      cursor: pointer;\n",
              "      display: none;\n",
              "      fill: #1967D2;\n",
              "      height: 32px;\n",
              "      padding: 0 0 0 0;\n",
              "      width: 32px;\n",
              "    }\n",
              "\n",
              "    .colab-df-convert:hover {\n",
              "      background-color: #E2EBFA;\n",
              "      box-shadow: 0px 1px 2px rgba(60, 64, 67, 0.3), 0px 1px 3px 1px rgba(60, 64, 67, 0.15);\n",
              "      fill: #174EA6;\n",
              "    }\n",
              "\n",
              "    [theme=dark] .colab-df-convert {\n",
              "      background-color: #3B4455;\n",
              "      fill: #D2E3FC;\n",
              "    }\n",
              "\n",
              "    [theme=dark] .colab-df-convert:hover {\n",
              "      background-color: #434B5C;\n",
              "      box-shadow: 0px 1px 3px 1px rgba(0, 0, 0, 0.15);\n",
              "      filter: drop-shadow(0px 1px 2px rgba(0, 0, 0, 0.3));\n",
              "      fill: #FFFFFF;\n",
              "    }\n",
              "  </style>\n",
              "\n",
              "      <script>\n",
              "        const buttonEl =\n",
              "          document.querySelector('#df-7a440d1a-dbf0-4227-bc65-cfb1e4f06661 button.colab-df-convert');\n",
              "        buttonEl.style.display =\n",
              "          google.colab.kernel.accessAllowed ? 'block' : 'none';\n",
              "\n",
              "        async function convertToInteractive(key) {\n",
              "          const element = document.querySelector('#df-7a440d1a-dbf0-4227-bc65-cfb1e4f06661');\n",
              "          const dataTable =\n",
              "            await google.colab.kernel.invokeFunction('convertToInteractive',\n",
              "                                                     [key], {});\n",
              "          if (!dataTable) return;\n",
              "\n",
              "          const docLinkHtml = 'Like what you see? Visit the ' +\n",
              "            '<a target=\"_blank\" href=https://colab.research.google.com/notebooks/data_table.ipynb>data table notebook</a>'\n",
              "            + ' to learn more about interactive tables.';\n",
              "          element.innerHTML = '';\n",
              "          dataTable['output_type'] = 'display_data';\n",
              "          await google.colab.output.renderOutput(dataTable, element);\n",
              "          const docLink = document.createElement('div');\n",
              "          docLink.innerHTML = docLinkHtml;\n",
              "          element.appendChild(docLink);\n",
              "        }\n",
              "      </script>\n",
              "    </div>\n",
              "  </div>\n",
              "  "
            ]
          },
          "metadata": {},
          "execution_count": 8
        }
      ]
    },
    {
      "cell_type": "code",
      "source": [
        "paired_data_df.info()"
      ],
      "metadata": {
        "id": "DwDUsNWevJ-D",
        "outputId": "177f9e5f-b573-49e0-92b0-2da2e6ff8a81",
        "colab": {
          "base_uri": "https://localhost:8080/"
        }
      },
      "execution_count": null,
      "outputs": [
        {
          "output_type": "stream",
          "name": "stdout",
          "text": [
            "<class 'pandas.core.frame.DataFrame'>\n",
            "RangeIndex: 20898 entries, 0 to 20897\n",
            "Data columns (total 4 columns):\n",
            " #   Column      Non-Null Count  Dtype \n",
            "---  ------      --------------  ----- \n",
            " 0   Unnamed: 0  20898 non-null  int64 \n",
            " 1   X1          20898 non-null  object\n",
            " 2   X2          20898 non-null  object\n",
            " 3   label       20898 non-null  int64 \n",
            "dtypes: int64(2), object(2)\n",
            "memory usage: 653.2+ KB\n"
          ]
        }
      ]
    },
    {
      "cell_type": "code",
      "source": [
        "image_width = 224\n",
        "image_height = 224\n",
        "num_channels = 3\n",
        "num_output_masks = 2\n",
        "batch_size = 4\n",
        "\n",
        "# Load Image\n",
        "def load_image(input_paths, label):\n",
        "    input_path1, input_path2 = input_paths[0], input_paths[1]\n",
        "    input_image1 = tf.io.read_file(input_path1)\n",
        "    input_image1 = tf.image.decode_jpeg(input_image1, channels=num_channels)\n",
        "    input_image2 = tf.io.read_file(input_path2)\n",
        "    input_image2 = tf.image.decode_jpeg(input_image2, channels=num_channels)\n",
        "    return (input_image1, input_image2), label\n",
        "\n",
        "# preprocessing - Scale pixels\n",
        "def scale_image_pixels(input_images, label):\n",
        "    input_image1, input_image2 = input_images[0], input_images[1]\n",
        "    input_image1 = tf.cast(input_image1, tf.float32)\n",
        "    input_image1 = input_image1/255.0\n",
        "    input_image2 = tf.cast(input_image2, tf.float32)\n",
        "    input_image2 = input_image2/255.0\n",
        "    return (input_image1, input_image2), label\n",
        "#tf.cast(train_labels, tf.float32)\n",
        "#dataset = tf.data.Dataset.from_tensor_slices((paired_data_df[['X1', 'X2']], paired_data_df['label']))\n",
        "dataset = tf.data.Dataset.from_tensor_slices((paired_data_df[['X1', 'X2']], paired_data_df['label'].to_numpy(dtype=np.float32)))\n",
        "dataset = dataset.shuffle(buffer_size=len(dataset) * 3)\n",
        "dataset = dataset.map(load_image, num_parallel_calls=AUTOTUNE)\n",
        "dataset = dataset.map(scale_image_pixels, num_parallel_calls=AUTOTUNE)\n",
        "dataset = dataset.batch(batch_size)\n",
        "dataset = dataset.prefetch(AUTOTUNE)\n",
        "print(\"dataset\", dataset)"
      ],
      "metadata": {
        "id": "LnH7kP7hDRW6",
        "colab": {
          "base_uri": "https://localhost:8080/"
        },
        "outputId": "7de911e8-3f9c-448b-923a-ca85aae328fb"
      },
      "execution_count": null,
      "outputs": [
        {
          "output_type": "stream",
          "name": "stdout",
          "text": [
            "dataset <_PrefetchDataset element_spec=((TensorSpec(shape=(None, None, None, 3), dtype=tf.float32, name=None), TensorSpec(shape=(None, None, None, 3), dtype=tf.float32, name=None)), TensorSpec(shape=(None,), dtype=tf.float32, name=None))>\n"
          ]
        }
      ]
    },
    {
      "cell_type": "markdown",
      "source": [
        "x1.shape [(4, 218, 178, 3) (4, 218, 178, 3)]\n",
        "y1.shape (4,)"
      ],
      "metadata": {
        "id": "wnb-_g5NWe_t"
      }
    },
    {
      "cell_type": "code",
      "source": [
        "for x_, y_ in dataset.take(2):\n",
        "    x1_, x2_ = x_\n",
        "    print(x1_.shape, x2_.shape)\n",
        "    print(y_.shape)"
      ],
      "metadata": {
        "colab": {
          "base_uri": "https://localhost:8080/"
        },
        "id": "IB_zRBxpQNnd",
        "outputId": "6308a301-1da0-4b22-b6e7-59998d343ce1"
      },
      "execution_count": null,
      "outputs": [
        {
          "output_type": "stream",
          "name": "stdout",
          "text": [
            "(4, 218, 178, 3) (4, 218, 178, 3)\n",
            "(4,)\n",
            "(4, 218, 178, 3) (4, 218, 178, 3)\n",
            "(4,)\n"
          ]
        }
      ]
    },
    {
      "cell_type": "code",
      "source": [
        "y_"
      ],
      "metadata": {
        "colab": {
          "base_uri": "https://localhost:8080/"
        },
        "id": "f-k58cN-YNQe",
        "outputId": "394af1da-fc81-4c88-ca3f-4d71eab7c06f"
      },
      "execution_count": null,
      "outputs": [
        {
          "output_type": "execute_result",
          "data": {
            "text/plain": [
              "<tf.Tensor: shape=(4,), dtype=float32, numpy=array([1., 0., 0., 0.], dtype=float32)>"
            ]
          },
          "metadata": {},
          "execution_count": 12
        }
      ]
    },
    {
      "cell_type": "code",
      "source": [
        "(input_image1, input_image2), label = scale_image_pixels(x_, y_)"
      ],
      "metadata": {
        "id": "gZgKdOCG-g97"
      },
      "execution_count": null,
      "outputs": []
    },
    {
      "cell_type": "code",
      "source": [
        "input_image2.shape"
      ],
      "metadata": {
        "colab": {
          "base_uri": "https://localhost:8080/"
        },
        "id": "PrksTFph-oE2",
        "outputId": "3f5dc429-5d64-416c-8000-e372f24a214c"
      },
      "execution_count": null,
      "outputs": [
        {
          "output_type": "execute_result",
          "data": {
            "text/plain": [
              "TensorShape([4, 218, 178, 3])"
            ]
          },
          "metadata": {},
          "execution_count": 14
        }
      ]
    },
    {
      "cell_type": "code",
      "source": [
        "x_[0].shape"
      ],
      "metadata": {
        "colab": {
          "base_uri": "https://localhost:8080/"
        },
        "id": "uuEoBHXBzm3S",
        "outputId": "4edddbf2-63af-43e6-f613-c76e9657afff"
      },
      "execution_count": null,
      "outputs": [
        {
          "output_type": "execute_result",
          "data": {
            "text/plain": [
              "TensorShape([4, 218, 178, 3])"
            ]
          },
          "metadata": {},
          "execution_count": 15
        }
      ]
    },
    {
      "cell_type": "markdown",
      "source": [
        "# Siamese Model"
      ],
      "metadata": {
        "id": "vP4BJq6AAPWu"
      }
    },
    {
      "cell_type": "code",
      "source": [
        "def euclidean_distance(vects):\n",
        "    x, y = vects\n",
        "    sum_square = K.sum(K.square(x - y), axis=1, keepdims=True)\n",
        "    return K.sqrt(sum_square)\n",
        "    #return K.sqrt(K.maximum(sum_square, K.epsilon()))\n",
        "\n",
        "def eucl_dist_output_shape(shapes):\n",
        "    shape1, shape2 = shapes\n",
        "    return (shape1[0], 1)\n",
        "\n",
        "def initialize_base_branch():\n",
        "    input = Input(shape=(218,178,3), name=\"base_input\")\n",
        "    x = Flatten(name=\"flatten_input\")(input)\n",
        "    x = Dense(128, activation='relu', name=\"first_base_dense\")(x)\n",
        "    x = Dropout(0.3, name=\"first_dropout\")(x)\n",
        "    x = Dense(128, activation='relu', name=\"second_base_dense\")(x)\n",
        "    x = Dropout(0.3, name=\"second_dropout\")(x)\n",
        "    x = Dense(128, activation='relu', name=\"third_base_dense\")(x)\n",
        "    #Returning a Model, with input and outputs, not just a group of layers.\n",
        "    return Model(inputs=input, outputs=x)\n",
        "\n",
        "#Conv2D(filters=64,kernel_size=(3, 3),padding='same',activation='relu',name='conv9_1_3x3')(up9)\n",
        "def initialize_conv_layer():\n",
        "    input = Input(shape=(218,178,3), name=\"base_input\")\n",
        "    x = Conv2D(filters=64,kernel_size=(3, 3),padding='same',activation='relu',name='conv1_3x3')(input)\n",
        "    x = MaxPooling2D(pool_size=(2, 2), padding=\"valid\")(x)\n",
        "\n",
        "    x = Conv2D(filters=32,kernel_size=(3, 3),padding='same',activation='relu',name='conv2_3x3')(x)\n",
        "    x = MaxPooling2D(pool_size=(2, 2), padding=\"valid\")(x)\n",
        "\n",
        "    x = Conv2D(filters=16,kernel_size=(3, 3),padding='same',activation='relu',name='conv3_3x3')(x)\n",
        "    x = MaxPooling2D(pool_size=(2, 2), padding=\"valid\")(x)\n",
        "\n",
        "    x = Flatten(name=\"flatten_input\")(x)\n",
        "\n",
        "    x = Dense(128, activation='relu', name=\"third_base_dense\")(x)\n",
        "    #Returning a Model, with input and outputs, not just a group of layers.\n",
        "    return Model(inputs=input, outputs=x)\n",
        "\n",
        "#for this one it is necessary to resize the images\n",
        "def initialize_resnet_backbone():\n",
        "  base_cnn = resnet.ResNet50(\n",
        "      weights=\"imagenet\", input_shape=(218, 178, 3), include_top=False\n",
        "    )\n",
        "\n",
        "  flatten = Flatten()(base_cnn.output)\n",
        "  dense1 = Dense(512, activation=\"relu\")(flatten)\n",
        "  dense1 = BatchNormalization()(dense1)\n",
        "  dense2 = Dense(256, activation=\"relu\")(dense1)\n",
        "  dense2 = BatchNormalization()(dense2)\n",
        "  output = Dense(256)(dense2)\n",
        "\n",
        "  embedding = Model(base_cnn.input, output, name=\"Embedding\")\n",
        "\n",
        "  trainable = False\n",
        "  for layer in base_cnn.layers:\n",
        "      if layer.name == \"conv5_block1_out\":\n",
        "          trainable = True\n",
        "      layer.trainable = trainable\n",
        "\n",
        "  return embedding\n",
        "\n",
        "#base_model = initialize_base_branch()\n",
        "base_model = initialize_resnet_backbone()\n",
        "\n",
        "#Left embedding\n",
        "input_l = Input(shape=(218, 178,3), name='left_input')\n",
        "vect_output_l = base_model(input_l)\n",
        "\n",
        "#Right embedding\n",
        "input_r = Input(shape=(218, 178,3), name='right_input')\n",
        "vect_output_r = base_model(input_r)\n",
        "\n",
        "#Embeddings and calculate the euclidean distance\n",
        "output = Lambda(euclidean_distance, name='output_layer',\n",
        "                output_shape=eucl_dist_output_shape)([vect_output_l, vect_output_r])\n",
        "\n",
        "model = Model([input_l, input_r], output)"
      ],
      "metadata": {
        "id": "mW9dZfPx_Fa7",
        "colab": {
          "base_uri": "https://localhost:8080/"
        },
        "outputId": "ad9c04e4-6e97-4056-c733-698c25ea07bb"
      },
      "execution_count": null,
      "outputs": [
        {
          "output_type": "stream",
          "name": "stdout",
          "text": [
            "Downloading data from https://storage.googleapis.com/tensorflow/keras-applications/resnet/resnet50_weights_tf_dim_ordering_tf_kernels_notop.h5\n",
            "94765736/94765736 [==============================] - 0s 0us/step\n"
          ]
        }
      ]
    },
    {
      "cell_type": "markdown",
      "source": [
        "base_mode(image)\n",
        "\n",
        "base_model(img1), base_mode(img2) -> emb_1, emb_2 ->"
      ],
      "metadata": {
        "id": "6_qXxcUxUDLH"
      }
    },
    {
      "cell_type": "code",
      "source": [
        "model.summary()"
      ],
      "metadata": {
        "colab": {
          "base_uri": "https://localhost:8080/"
        },
        "id": "ncugqs2BDnA1",
        "outputId": "41345fc4-9b51-4e25-af20-344ea23f5837"
      },
      "execution_count": null,
      "outputs": [
        {
          "output_type": "stream",
          "name": "stdout",
          "text": [
            "Model: \"model\"\n",
            "__________________________________________________________________________________________________\n",
            " Layer (type)                   Output Shape         Param #     Connected to                     \n",
            "==================================================================================================\n",
            " left_input (InputLayer)        [(None, 218, 178, 3  0           []                               \n",
            "                                )]                                                                \n",
            "                                                                                                  \n",
            " right_input (InputLayer)       [(None, 218, 178, 3  0           []                               \n",
            "                                )]                                                                \n",
            "                                                                                                  \n",
            " Embedding (Functional)         (None, 256)          67828608    ['left_input[0][0]',             \n",
            "                                                                  'right_input[0][0]']            \n",
            "                                                                                                  \n",
            " output_layer (Lambda)          (None, 1)            0           ['Embedding[0][0]',              \n",
            "                                                                  'Embedding[1][0]']              \n",
            "                                                                                                  \n",
            "==================================================================================================\n",
            "Total params: 67,828,608\n",
            "Trainable params: 53,170,688\n",
            "Non-trainable params: 14,657,920\n",
            "__________________________________________________________________________________________________\n"
          ]
        }
      ]
    },
    {
      "cell_type": "code",
      "source": [
        "model.predict([x1_[0][None, :, :, :], x1_[0][None, :, :, :]])"
      ],
      "metadata": {
        "colab": {
          "base_uri": "https://localhost:8080/"
        },
        "id": "uuRckghnBTLr",
        "outputId": "c8b6db2c-6883-4739-8695-cfeaeeaec615"
      },
      "execution_count": null,
      "outputs": [
        {
          "output_type": "stream",
          "name": "stdout",
          "text": [
            "1/1 [==============================] - 2s 2s/step\n"
          ]
        },
        {
          "output_type": "execute_result",
          "data": {
            "text/plain": [
              "array([[0.]], dtype=float32)"
            ]
          },
          "metadata": {},
          "execution_count": 18
        }
      ]
    },
    {
      "cell_type": "code",
      "source": [
        "model.predict([x1_[0][None, :, :, :], x1_[1][None, :, :, :]])"
      ],
      "metadata": {
        "colab": {
          "base_uri": "https://localhost:8080/"
        },
        "id": "Q_03byJt1tYy",
        "outputId": "654d3225-899c-4459-cd0f-de148107b3b8"
      },
      "execution_count": null,
      "outputs": [
        {
          "output_type": "stream",
          "name": "stdout",
          "text": [
            "1/1 [==============================] - 1s 571ms/step\n"
          ]
        },
        {
          "output_type": "execute_result",
          "data": {
            "text/plain": [
              "array([[2.3957472]], dtype=float32)"
            ]
          },
          "metadata": {},
          "execution_count": 19
        }
      ]
    },
    {
      "cell_type": "code",
      "source": [
        "y_"
      ],
      "metadata": {
        "colab": {
          "base_uri": "https://localhost:8080/"
        },
        "id": "F7Vldq3B5ZVA",
        "outputId": "84ae209b-a034-4f37-9846-66c23625d4b5"
      },
      "execution_count": null,
      "outputs": [
        {
          "output_type": "execute_result",
          "data": {
            "text/plain": [
              "<tf.Tensor: shape=(4,), dtype=float32, numpy=array([0., 1., 0., 0.], dtype=float32)>"
            ]
          },
          "metadata": {},
          "execution_count": 30
        }
      ]
    },
    {
      "cell_type": "code",
      "source": [
        "x1_.shape"
      ],
      "metadata": {
        "colab": {
          "base_uri": "https://localhost:8080/"
        },
        "id": "GQx4ZACY1B1N",
        "outputId": "64dcb5b1-0221-4a3d-fffc-60b7ef6c32a6"
      },
      "execution_count": null,
      "outputs": [
        {
          "output_type": "execute_result",
          "data": {
            "text/plain": [
              "TensorShape([4, 218, 178, 3])"
            ]
          },
          "metadata": {},
          "execution_count": 31
        }
      ]
    },
    {
      "cell_type": "code",
      "source": [
        "tf.keras.utils.plot_model(model, to_file='siamese_model.png', show_shapes=True)"
      ],
      "metadata": {
        "colab": {
          "base_uri": "https://localhost:8080/",
          "height": 312
        },
        "id": "nZZECkSfIiHe",
        "outputId": "76e9645d-defe-44c6-e5cd-ff446fb5cf04"
      },
      "execution_count": null,
      "outputs": [
        {
          "output_type": "execute_result",
          "data": {
            "image/png": "[encoded data removed]",
            "text/plain": [
              "<IPython.core.display.Image object>"
            ]
          },
          "metadata": {},
          "execution_count": 32
        }
      ]
    },
    {
      "cell_type": "code",
      "source": [
        "def contrastive_loss_with_margin(margin):\n",
        "    def contrastive_loss(y_true, y_pred):\n",
        "        square_pred = K.square(y_pred)\n",
        "        margin_square = K.square(K.maximum(margin - y_pred, 0))\n",
        "        return (y_true * square_pred + (1 - y_true) * margin_square)\n",
        "    return contrastive_loss\n",
        "\n",
        "#model.compile(loss=contrastive_loss_with_margin(margin=1), optimizer=Adam(learning_rate=0.00005)) #model 10 epoch, lr=0.00005\n",
        "model.compile(loss=contrastive_loss_with_margin(margin=1), optimizer=Adam(learning_rate=0.00001))"
      ],
      "metadata": {
        "id": "OJOG82N4IlyB"
      },
      "execution_count": null,
      "outputs": []
    },
    {
      "cell_type": "code",
      "source": [
        "history = model.fit(dataset, epochs=10, batch_size=batch_size)"
      ],
      "metadata": {
        "colab": {
          "base_uri": "https://localhost:8080/"
        },
        "id": "6hzPrghw8rz1",
        "outputId": "501b5bc3-f0a0-4182-9e69-9d8acfc59241"
      },
      "execution_count": null,
      "outputs": [
        {
          "output_type": "stream",
          "name": "stdout",
          "text": [
            "Epoch 1/10\n",
            "5225/5225 [==============================] - 372s 69ms/step - loss: 5.4254\n",
            "Epoch 2/10\n",
            "5225/5225 [==============================] - 354s 68ms/step - loss: 0.2848\n",
            "Epoch 3/10\n",
            "5225/5225 [==============================] - 353s 68ms/step - loss: 0.2782\n",
            "Epoch 4/10\n",
            "5225/5225 [==============================] - 352s 67ms/step - loss: 0.2917\n",
            "Epoch 5/10\n",
            "5225/5225 [==============================] - 351s 67ms/step - loss: 0.2836\n",
            "Epoch 6/10\n",
            "5225/5225 [==============================] - 359s 69ms/step - loss: 0.2801\n",
            "Epoch 7/10\n",
            "5225/5225 [==============================] - 371s 71ms/step - loss: 0.2722\n",
            "Epoch 8/10\n",
            "5225/5225 [==============================] - 355s 68ms/step - loss: 0.2714\n",
            "Epoch 9/10\n",
            "5225/5225 [==============================] - 352s 67ms/step - loss: 0.2666\n",
            "Epoch 10/10\n",
            "5225/5225 [==============================] - 352s 67ms/step - loss: 0.2661\n"
          ]
        }
      ]
    },
    {
      "cell_type": "markdown",
      "source": [
        "# Model evaluation"
      ],
      "metadata": {
        "id": "wCYsQFrkoHHi"
      }
    },
    {
      "cell_type": "code",
      "source": [
        "model.load_weights('/content/drive/MyDrive/Facial_Recognition_Project/Model/resnet_model_epoch10.hp5')"
      ],
      "metadata": {
        "colab": {
          "base_uri": "https://localhost:8080/"
        },
        "id": "vmiQBcWXdl-p",
        "outputId": "61dc9192-a927-49f3-e15a-b9a7da0e2e05"
      },
      "execution_count": null,
      "outputs": [
        {
          "output_type": "execute_result",
          "data": {
            "text/plain": [
              "<tensorflow.python.checkpoint.checkpoint.CheckpointLoadStatus at 0x7f0b559d4d60>"
            ]
          },
          "metadata": {},
          "execution_count": 20
        }
      ]
    },
    {
      "cell_type": "code",
      "source": [
        "model.summary()"
      ],
      "metadata": {
        "colab": {
          "base_uri": "https://localhost:8080/"
        },
        "id": "GmoWCcGkdvo_",
        "outputId": "2036ff78-0706-4c83-d25a-08de1ff3400b"
      },
      "execution_count": null,
      "outputs": [
        {
          "output_type": "stream",
          "name": "stdout",
          "text": [
            "Model: \"model\"\n",
            "__________________________________________________________________________________________________\n",
            " Layer (type)                   Output Shape         Param #     Connected to                     \n",
            "==================================================================================================\n",
            " left_input (InputLayer)        [(None, 218, 178, 3  0           []                               \n",
            "                                )]                                                                \n",
            "                                                                                                  \n",
            " right_input (InputLayer)       [(None, 218, 178, 3  0           []                               \n",
            "                                )]                                                                \n",
            "                                                                                                  \n",
            " Embedding (Functional)         (None, 256)          67828608    ['left_input[0][0]',             \n",
            "                                                                  'right_input[0][0]']            \n",
            "                                                                                                  \n",
            " output_layer (Lambda)          (None, 1)            0           ['Embedding[0][0]',              \n",
            "                                                                  'Embedding[1][0]']              \n",
            "                                                                                                  \n",
            "==================================================================================================\n",
            "Total params: 67,828,608\n",
            "Trainable params: 53,170,688\n",
            "Non-trainable params: 14,657,920\n",
            "__________________________________________________________________________________________________\n"
          ]
        }
      ]
    },
    {
      "cell_type": "code",
      "source": [
        "for x, y in dataset.take(1):\n",
        "    test_x1, test_x2 = x"
      ],
      "metadata": {
        "id": "ZkOlX6qWYE97"
      },
      "execution_count": null,
      "outputs": []
    },
    {
      "cell_type": "code",
      "source": [
        "model.layers"
      ],
      "metadata": {
        "colab": {
          "base_uri": "https://localhost:8080/"
        },
        "id": "xjQGUhLpozCz",
        "outputId": "ede715d0-f027-410d-b796-1399f77a4492"
      },
      "execution_count": null,
      "outputs": [
        {
          "output_type": "execute_result",
          "data": {
            "text/plain": [
              "[<keras.engine.input_layer.InputLayer at 0x7f0a9ab123a0>,\n",
              " <keras.engine.input_layer.InputLayer at 0x7f0a9bf8f6d0>,\n",
              " <keras.engine.functional.Functional at 0x7f0a9b03e190>,\n",
              " <keras.layers.core.lambda_layer.Lambda at 0x7f0a9af331f0>]"
            ]
          },
          "metadata": {},
          "execution_count": 37
        }
      ]
    },
    {
      "cell_type": "code",
      "source": [
        "model.get_layer(index = 2)"
      ],
      "metadata": {
        "colab": {
          "base_uri": "https://localhost:8080/"
        },
        "id": "FQ1mbjBOpVO2",
        "outputId": "c32a0237-2ac0-4c4e-8966-a6e598b58f1e"
      },
      "execution_count": null,
      "outputs": [
        {
          "output_type": "execute_result",
          "data": {
            "text/plain": [
              "<keras.engine.functional.Functional at 0x7f0a9b03e190>"
            ]
          },
          "metadata": {},
          "execution_count": 40
        }
      ]
    },
    {
      "cell_type": "code",
      "source": [
        "embedding_model = keras.Model(model.input, model.get_layer(index = 2))"
      ],
      "metadata": {
        "colab": {
          "base_uri": "https://localhost:8080/",
          "height": 336
        },
        "id": "jqSqcLXbeBkp",
        "outputId": "766ca1e6-8833-4944-95fb-fbdf38ea5214"
      },
      "execution_count": null,
      "outputs": [
        {
          "output_type": "error",
          "ename": "ValueError",
          "evalue": "ignored",
          "traceback": [
            "\u001b[0;31m---------------------------------------------------------------------------\u001b[0m",
            "\u001b[0;31mValueError\u001b[0m                                Traceback (most recent call last)",
            "\u001b[0;32m<ipython-input-39-b12fceb2c529>\u001b[0m in \u001b[0;36m<cell line: 1>\u001b[0;34m()\u001b[0m\n\u001b[0;32m----> 1\u001b[0;31m \u001b[0membedding_model\u001b[0m \u001b[0;34m=\u001b[0m \u001b[0mkeras\u001b[0m\u001b[0;34m.\u001b[0m\u001b[0mModel\u001b[0m\u001b[0;34m(\u001b[0m\u001b[0mmodel\u001b[0m\u001b[0;34m.\u001b[0m\u001b[0minput\u001b[0m\u001b[0;34m,\u001b[0m \u001b[0mmodel\u001b[0m\u001b[0;34m.\u001b[0m\u001b[0mget_layer\u001b[0m\u001b[0;34m(\u001b[0m\u001b[0mindex\u001b[0m \u001b[0;34m=\u001b[0m \u001b[0;36m2\u001b[0m\u001b[0;34m)\u001b[0m\u001b[0;34m)\u001b[0m\u001b[0;34m\u001b[0m\u001b[0;34m\u001b[0m\u001b[0m\n\u001b[0m",
            "\u001b[0;32m/usr/local/lib/python3.9/dist-packages/tensorflow/python/trackable/base.py\u001b[0m in \u001b[0;36m_method_wrapper\u001b[0;34m(self, *args, **kwargs)\u001b[0m\n\u001b[1;32m    203\u001b[0m     \u001b[0mself\u001b[0m\u001b[0;34m.\u001b[0m\u001b[0m_self_setattr_tracking\u001b[0m \u001b[0;34m=\u001b[0m \u001b[0;32mFalse\u001b[0m  \u001b[0;31m# pylint: disable=protected-access\u001b[0m\u001b[0;34m\u001b[0m\u001b[0;34m\u001b[0m\u001b[0m\n\u001b[1;32m    204\u001b[0m     \u001b[0;32mtry\u001b[0m\u001b[0;34m:\u001b[0m\u001b[0;34m\u001b[0m\u001b[0;34m\u001b[0m\u001b[0m\n\u001b[0;32m--> 205\u001b[0;31m       \u001b[0mresult\u001b[0m \u001b[0;34m=\u001b[0m \u001b[0mmethod\u001b[0m\u001b[0;34m(\u001b[0m\u001b[0mself\u001b[0m\u001b[0;34m,\u001b[0m \u001b[0;34m*\u001b[0m\u001b[0margs\u001b[0m\u001b[0;34m,\u001b[0m \u001b[0;34m**\u001b[0m\u001b[0mkwargs\u001b[0m\u001b[0;34m)\u001b[0m\u001b[0;34m\u001b[0m\u001b[0;34m\u001b[0m\u001b[0m\n\u001b[0m\u001b[1;32m    206\u001b[0m     \u001b[0;32mfinally\u001b[0m\u001b[0;34m:\u001b[0m\u001b[0;34m\u001b[0m\u001b[0;34m\u001b[0m\u001b[0m\n\u001b[1;32m    207\u001b[0m       \u001b[0mself\u001b[0m\u001b[0;34m.\u001b[0m\u001b[0m_self_setattr_tracking\u001b[0m \u001b[0;34m=\u001b[0m \u001b[0mprevious_value\u001b[0m  \u001b[0;31m# pylint: disable=protected-access\u001b[0m\u001b[0;34m\u001b[0m\u001b[0;34m\u001b[0m\u001b[0m\n",
            "\u001b[0;32m/usr/local/lib/python3.9/dist-packages/keras/engine/functional.py\u001b[0m in \u001b[0;36m__init__\u001b[0;34m(self, inputs, outputs, name, trainable, **kwargs)\u001b[0m\n\u001b[1;32m    165\u001b[0m                     \u001b[0minputs\u001b[0m\u001b[0;34m,\u001b[0m \u001b[0moutputs\u001b[0m\u001b[0;34m\u001b[0m\u001b[0;34m\u001b[0m\u001b[0m\n\u001b[1;32m    166\u001b[0m                 )\n\u001b[0;32m--> 167\u001b[0;31m         \u001b[0mself\u001b[0m\u001b[0;34m.\u001b[0m\u001b[0m_init_graph_network\u001b[0m\u001b[0;34m(\u001b[0m\u001b[0minputs\u001b[0m\u001b[0;34m,\u001b[0m \u001b[0moutputs\u001b[0m\u001b[0;34m)\u001b[0m\u001b[0;34m\u001b[0m\u001b[0;34m\u001b[0m\u001b[0m\n\u001b[0m\u001b[1;32m    168\u001b[0m \u001b[0;34m\u001b[0m\u001b[0m\n\u001b[1;32m    169\u001b[0m     \u001b[0;34m@\u001b[0m\u001b[0mtf\u001b[0m\u001b[0;34m.\u001b[0m\u001b[0m__internal__\u001b[0m\u001b[0;34m.\u001b[0m\u001b[0mtracking\u001b[0m\u001b[0;34m.\u001b[0m\u001b[0mno_automatic_dependency_tracking\u001b[0m\u001b[0;34m\u001b[0m\u001b[0;34m\u001b[0m\u001b[0m\n",
            "\u001b[0;32m/usr/local/lib/python3.9/dist-packages/tensorflow/python/trackable/base.py\u001b[0m in \u001b[0;36m_method_wrapper\u001b[0;34m(self, *args, **kwargs)\u001b[0m\n\u001b[1;32m    203\u001b[0m     \u001b[0mself\u001b[0m\u001b[0;34m.\u001b[0m\u001b[0m_self_setattr_tracking\u001b[0m \u001b[0;34m=\u001b[0m \u001b[0;32mFalse\u001b[0m  \u001b[0;31m# pylint: disable=protected-access\u001b[0m\u001b[0;34m\u001b[0m\u001b[0;34m\u001b[0m\u001b[0m\n\u001b[1;32m    204\u001b[0m     \u001b[0;32mtry\u001b[0m\u001b[0;34m:\u001b[0m\u001b[0;34m\u001b[0m\u001b[0;34m\u001b[0m\u001b[0m\n\u001b[0;32m--> 205\u001b[0;31m       \u001b[0mresult\u001b[0m \u001b[0;34m=\u001b[0m \u001b[0mmethod\u001b[0m\u001b[0;34m(\u001b[0m\u001b[0mself\u001b[0m\u001b[0;34m,\u001b[0m \u001b[0;34m*\u001b[0m\u001b[0margs\u001b[0m\u001b[0;34m,\u001b[0m \u001b[0;34m**\u001b[0m\u001b[0mkwargs\u001b[0m\u001b[0;34m)\u001b[0m\u001b[0;34m\u001b[0m\u001b[0;34m\u001b[0m\u001b[0m\n\u001b[0m\u001b[1;32m    206\u001b[0m     \u001b[0;32mfinally\u001b[0m\u001b[0;34m:\u001b[0m\u001b[0;34m\u001b[0m\u001b[0;34m\u001b[0m\u001b[0m\n\u001b[1;32m    207\u001b[0m       \u001b[0mself\u001b[0m\u001b[0;34m.\u001b[0m\u001b[0m_self_setattr_tracking\u001b[0m \u001b[0;34m=\u001b[0m \u001b[0mprevious_value\u001b[0m  \u001b[0;31m# pylint: disable=protected-access\u001b[0m\u001b[0;34m\u001b[0m\u001b[0;34m\u001b[0m\u001b[0m\n",
            "\u001b[0;32m/usr/local/lib/python3.9/dist-packages/keras/engine/functional.py\u001b[0m in \u001b[0;36m_init_graph_network\u001b[0;34m(self, inputs, outputs)\u001b[0m\n\u001b[1;32m    207\u001b[0m                 \u001b[0mbase_layer_utils\u001b[0m\u001b[0;34m.\u001b[0m\u001b[0mcreate_keras_history\u001b[0m\u001b[0;34m(\u001b[0m\u001b[0mself\u001b[0m\u001b[0;34m.\u001b[0m\u001b[0m_nested_outputs\u001b[0m\u001b[0;34m)\u001b[0m\u001b[0;34m\u001b[0m\u001b[0;34m\u001b[0m\u001b[0m\n\u001b[1;32m    208\u001b[0m \u001b[0;34m\u001b[0m\u001b[0m\n\u001b[0;32m--> 209\u001b[0;31m         \u001b[0mself\u001b[0m\u001b[0;34m.\u001b[0m\u001b[0m_validate_graph_inputs_and_outputs\u001b[0m\u001b[0;34m(\u001b[0m\u001b[0;34m)\u001b[0m\u001b[0;34m\u001b[0m\u001b[0;34m\u001b[0m\u001b[0m\n\u001b[0m\u001b[1;32m    210\u001b[0m \u001b[0;34m\u001b[0m\u001b[0m\n\u001b[1;32m    211\u001b[0m         \u001b[0;31m# A Network does not create weights of its own, thus it is already\u001b[0m\u001b[0;34m\u001b[0m\u001b[0;34m\u001b[0m\u001b[0m\n",
            "\u001b[0;32m/usr/local/lib/python3.9/dist-packages/keras/engine/functional.py\u001b[0m in \u001b[0;36m_validate_graph_inputs_and_outputs\u001b[0;34m(self)\u001b[0m\n\u001b[1;32m    870\u001b[0m             \u001b[0;32mif\u001b[0m \u001b[0;32mnot\u001b[0m \u001b[0mhasattr\u001b[0m\u001b[0;34m(\u001b[0m\u001b[0mx\u001b[0m\u001b[0;34m,\u001b[0m \u001b[0;34m\"_keras_history\"\u001b[0m\u001b[0;34m)\u001b[0m\u001b[0;34m:\u001b[0m\u001b[0;34m\u001b[0m\u001b[0;34m\u001b[0m\u001b[0m\n\u001b[1;32m    871\u001b[0m                 \u001b[0mcls_name\u001b[0m \u001b[0;34m=\u001b[0m \u001b[0mself\u001b[0m\u001b[0;34m.\u001b[0m\u001b[0m__class__\u001b[0m\u001b[0;34m.\u001b[0m\u001b[0m__name__\u001b[0m\u001b[0;34m\u001b[0m\u001b[0;34m\u001b[0m\u001b[0m\n\u001b[0;32m--> 872\u001b[0;31m                 raise ValueError(\n\u001b[0m\u001b[1;32m    873\u001b[0m                     \u001b[0;34mf\"Output tensors of a {cls_name} model must be \"\u001b[0m\u001b[0;34m\u001b[0m\u001b[0;34m\u001b[0m\u001b[0m\n\u001b[1;32m    874\u001b[0m                     \u001b[0;34m\"the output of a TensorFlow `Layer` \"\u001b[0m\u001b[0;34m\u001b[0m\u001b[0;34m\u001b[0m\u001b[0m\n",
            "\u001b[0;31mValueError\u001b[0m: Output tensors of a Functional model must be the output of a TensorFlow `Layer` (thus holding past layer metadata). Found: <keras.engine.functional.Functional object at 0x7f0a9b03e190>"
          ]
        }
      ]
    },
    {
      "cell_type": "code",
      "source": [
        "embedding_model.predict(x[0][0][None, :, :, :]).shape"
      ],
      "metadata": {
        "colab": {
          "base_uri": "https://localhost:8080/"
        },
        "id": "YekILFB2eQKB",
        "outputId": "b74fda6e-e6b8-430f-bcda-f07800e66478"
      },
      "execution_count": null,
      "outputs": [
        {
          "output_type": "stream",
          "name": "stdout",
          "text": [
            "1/1 [==============================] - 0s 44ms/step\n"
          ]
        },
        {
          "output_type": "execute_result",
          "data": {
            "text/plain": [
              "(1, 218, 178, 3)"
            ]
          },
          "metadata": {},
          "execution_count": 36
        }
      ]
    },
    {
      "cell_type": "code",
      "source": [
        "x = dataset.take(1)"
      ],
      "metadata": {
        "id": "C7eCVJr7X-ls"
      },
      "execution_count": null,
      "outputs": []
    },
    {
      "cell_type": "code",
      "source": [
        "anchor_embedding = base_model.predict(x[0][0][None, :, :, :])\n",
        "positive_embedding = base_model.predict(x[1][0][None, :, :, :])\n",
        "negative_embedding = base_model.predict(x[1][1][None, :, :, :])"
      ],
      "metadata": {
        "colab": {
          "base_uri": "https://localhost:8080/"
        },
        "id": "lgyGvZTzYTBV",
        "outputId": "9230651a-6571-4585-91f8-d364e0c8ec48"
      },
      "execution_count": null,
      "outputs": [
        {
          "output_type": "stream",
          "name": "stdout",
          "text": [
            "1/1 [==============================] - 0s 45ms/step\n",
            "1/1 [==============================] - 0s 36ms/step\n",
            "1/1 [==============================] - 0s 33ms/step\n"
          ]
        }
      ]
    },
    {
      "cell_type": "code",
      "source": [
        "anchor_embedding = base_model.predict(x_[0][0][None, :, :, :])\n",
        "positive_embedding = base_model.predict(x_[1][0][None, :, :, :])\n",
        "negative_embedding = base_model.predict(x_[1][1][None, :, :, :])"
      ],
      "metadata": {
        "colab": {
          "base_uri": "https://localhost:8080/"
        },
        "id": "znx3tKMxWXOQ",
        "outputId": "acc36e4b-0827-47ed-d300-e89df06acbdc"
      },
      "execution_count": null,
      "outputs": [
        {
          "output_type": "stream",
          "name": "stdout",
          "text": [
            "1/1 [==============================] - 0s 23ms/step\n",
            "1/1 [==============================] - 0s 21ms/step\n",
            "1/1 [==============================] - 0s 22ms/step\n"
          ]
        }
      ]
    },
    {
      "cell_type": "code",
      "source": [
        "cosine_similarity = keras.metrics.CosineSimilarity()\n",
        "\n",
        "positive_similarity = cosine_similarity(anchor_embedding, positive_embedding)\n",
        "print(\"Positive similarity:\", positive_similarity.numpy())\n",
        "\n",
        "negative_similarity = cosine_similarity(anchor_embedding, negative_embedding)\n",
        "print(\"Negative similarity\", negative_similarity.numpy())"
      ],
      "metadata": {
        "colab": {
          "base_uri": "https://localhost:8080/"
        },
        "id": "UoQgSBoVXSbp",
        "outputId": "70d084d9-3311-436d-be6e-1f82e56c8db2"
      },
      "execution_count": null,
      "outputs": [
        {
          "output_type": "stream",
          "name": "stdout",
          "text": [
            "Positive similarity: -0.17041102\n",
            "Negative similarity 0.2359793\n"
          ]
        }
      ]
    },
    {
      "cell_type": "code",
      "source": [
        "model.predict(x)"
      ],
      "metadata": {
        "colab": {
          "base_uri": "https://localhost:8080/"
        },
        "id": "RgzXGkOa_JWY",
        "outputId": "3490bdfc-c9c6-41ed-d87c-5bd57fc206f7"
      },
      "execution_count": null,
      "outputs": [
        {
          "output_type": "stream",
          "name": "stdout",
          "text": [
            "1/1 [==============================] - 2s 2s/step\n"
          ]
        },
        {
          "output_type": "execute_result",
          "data": {
            "text/plain": [
              "array([[0.65323156],\n",
              "       [0.92969614],\n",
              "       [0.8617545 ],\n",
              "       [0.8571671 ]], dtype=float32)"
            ]
          },
          "metadata": {},
          "execution_count": 45
        }
      ]
    },
    {
      "cell_type": "code",
      "source": [
        "y"
      ],
      "metadata": {
        "colab": {
          "base_uri": "https://localhost:8080/"
        },
        "id": "Hq1XwUxQL7B1",
        "outputId": "c06bc33d-3940-4c43-b72d-e18513a4db1f"
      },
      "execution_count": null,
      "outputs": [
        {
          "output_type": "execute_result",
          "data": {
            "text/plain": [
              "<tf.Tensor: shape=(4,), dtype=float32, numpy=array([0., 0., 0., 0.], dtype=float32)>"
            ]
          },
          "metadata": {},
          "execution_count": 46
        }
      ]
    },
    {
      "cell_type": "code",
      "source": [
        "model.save_weights('/content/drive/MyDrive/Facial_Recognition_Project/Model/resnet_model_epoch10.hp5')"
      ],
      "metadata": {
        "id": "Y25HBKCsVpTw"
      },
      "execution_count": null,
      "outputs": []
    },
    {
      "cell_type": "code",
      "source": [
        "y_"
      ],
      "metadata": {
        "colab": {
          "base_uri": "https://localhost:8080/"
        },
        "id": "7eNak0KgL1UF",
        "outputId": "2261d5ac-5c90-407c-ef3f-0c13634b9ac1"
      },
      "execution_count": null,
      "outputs": [
        {
          "output_type": "execute_result",
          "data": {
            "text/plain": [
              "<tf.Tensor: shape=(4,), dtype=float32, numpy=array([1., 0., 0., 0.], dtype=float32)>"
            ]
          },
          "metadata": {},
          "execution_count": 79
        }
      ]
    },
    {
      "cell_type": "markdown",
      "source": [
        "# Testing with all Bradley Cooper images"
      ],
      "metadata": {
        "id": "egvot2Ht-RNa"
      }
    },
    {
      "cell_type": "code",
      "source": [
        "from PIL import Image\n",
        "from tqdm import tqdm\n",
        "\n",
        "def face_verification(face_db_path, test_img_path):\n",
        "    test_img = preprocess_image_for_test(test_img_path)\n",
        "    distances, similatiries, user_names = [], [], []\n",
        "    #if not os.path.exists(face_db_path):\n",
        "    #    raise FileNotFoundError('Face database path not found!')\n",
        "    #for root, dirs, files in os.walk(face_db_path):\n",
        "    embedding_model = keras.Model(model.input[0], model.get_layer(index = 0).output )\n",
        "    right_emb = embedding_model.predict(test_img)\n",
        "\n",
        "    for file_ in tqdm(face_db_path):\n",
        "        if file_ == test_img_path:\n",
        "            continue\n",
        "        left_image = preprocess_image_for_test(file_)\n",
        "        distance = model.predict([left_image.reshape((1, 218, 178, 3)), test_img.reshape((1, 218, 178, 3))], verbose=0)\n",
        "        right_emb = embedding_model.predict(left_image)\n",
        "        similarity = cosine_similarity(left_image, right_emb)\n",
        "        similatiries.append(similarity.item())\n",
        "\n",
        "        distances.append(distance[0][0])\n",
        "        user_names.append(file_.split('.')[0].split('/')[-1])\n",
        "    predicted_name = user_names[np.argmin(similatiries)]\n",
        "    return predicted_name, distances, similatiries, user_names\n",
        "\n",
        "def preprocess_image_for_test(path):\n",
        "    img = Image.open(path)\n",
        "    img = img.resize((218, 178))\n",
        "    img = img.convert(\"RGB\")\n",
        "    img = np.asarray(img) / 255.0\n",
        "    img = img[:, :, :3]\n",
        "    return img\n",
        "# test_img = '/content/drive/MyDrive/AC221/Facial_Recognition_Project/test_faces/biden_test.jpeg'\n",
        "# preprocess_image_for_test(test_img)"
      ],
      "metadata": {
        "id": "RdZLJyOzFHZR"
      },
      "execution_count": null,
      "outputs": []
    },
    {
      "cell_type": "code",
      "source": [
        "celebs = pd.read_csv('/content/drive/MyDrive/Facial_Recognition_Project/CelebA/list_identity_celeba.txt', sep='   ')\n",
        "celebs"
      ],
      "metadata": {
        "colab": {
          "base_uri": "https://localhost:8080/",
          "height": 479
        },
        "id": "xW45xZz7-SzQ",
        "outputId": "e72e9234-4e0b-4e8f-9c6d-85a267246ffd"
      },
      "execution_count": null,
      "outputs": [
        {
          "output_type": "stream",
          "name": "stderr",
          "text": [
            "<ipython-input-69-c6b12f95721a>:1: ParserWarning: Falling back to the 'python' engine because the 'c' engine does not support regex separators (separators > 1 char and different from '\\s+' are interpreted as regex); you can avoid this warning by specifying engine='python'.\n",
            "  celebs = pd.read_csv('/content/drive/MyDrive/Facial_Recognition_Project/CelebA/list_identity_celeba.txt', sep='   ')\n"
          ]
        },
        {
          "output_type": "execute_result",
          "data": {
            "text/plain": [
              "          image_id        identity_name\n",
              "0       000001.jpg  Elizabeth_Gutierrez\n",
              "1       000002.jpg           Emilia_Fox\n",
              "2       000003.jpg         Shane_Harper\n",
              "3       000004.jpg        Leonor_Varela\n",
              "4       000005.jpg     Tatana_Kucharova\n",
              "...            ...                  ...\n",
              "202594  202595.jpg    Veronica_Varekova\n",
              "202595  202596.jpg        Nathan_Gamble\n",
              "202596  202597.jpg         Vivek_Oberoi\n",
              "202597  202598.jpg        Kyle_Richards\n",
              "202598  202599.jpg       Yvette_Vickers\n",
              "\n",
              "[202599 rows x 2 columns]"
            ],
            "text/html": [
              "\n",
              "  <div id=\"df-8414fdf1-70eb-4dd6-ace9-3d6b0cc7ee7f\">\n",
              "    <div class=\"colab-df-container\">\n",
              "      <div>\n",
              "<style scoped>\n",
              "    .dataframe tbody tr th:only-of-type {\n",
              "        vertical-align: middle;\n",
              "    }\n",
              "\n",
              "    .dataframe tbody tr th {\n",
              "        vertical-align: top;\n",
              "    }\n",
              "\n",
              "    .dataframe thead th {\n",
              "        text-align: right;\n",
              "    }\n",
              "</style>\n",
              "<table border=\"1\" class=\"dataframe\">\n",
              "  <thead>\n",
              "    <tr style=\"text-align: right;\">\n",
              "      <th></th>\n",
              "      <th>image_id</th>\n",
              "      <th>identity_name</th>\n",
              "    </tr>\n",
              "  </thead>\n",
              "  <tbody>\n",
              "    <tr>\n",
              "      <th>0</th>\n",
              "      <td>000001.jpg</td>\n",
              "      <td>Elizabeth_Gutierrez</td>\n",
              "    </tr>\n",
              "    <tr>\n",
              "      <th>1</th>\n",
              "      <td>000002.jpg</td>\n",
              "      <td>Emilia_Fox</td>\n",
              "    </tr>\n",
              "    <tr>\n",
              "      <th>2</th>\n",
              "      <td>000003.jpg</td>\n",
              "      <td>Shane_Harper</td>\n",
              "    </tr>\n",
              "    <tr>\n",
              "      <th>3</th>\n",
              "      <td>000004.jpg</td>\n",
              "      <td>Leonor_Varela</td>\n",
              "    </tr>\n",
              "    <tr>\n",
              "      <th>4</th>\n",
              "      <td>000005.jpg</td>\n",
              "      <td>Tatana_Kucharova</td>\n",
              "    </tr>\n",
              "    <tr>\n",
              "      <th>...</th>\n",
              "      <td>...</td>\n",
              "      <td>...</td>\n",
              "    </tr>\n",
              "    <tr>\n",
              "      <th>202594</th>\n",
              "      <td>202595.jpg</td>\n",
              "      <td>Veronica_Varekova</td>\n",
              "    </tr>\n",
              "    <tr>\n",
              "      <th>202595</th>\n",
              "      <td>202596.jpg</td>\n",
              "      <td>Nathan_Gamble</td>\n",
              "    </tr>\n",
              "    <tr>\n",
              "      <th>202596</th>\n",
              "      <td>202597.jpg</td>\n",
              "      <td>Vivek_Oberoi</td>\n",
              "    </tr>\n",
              "    <tr>\n",
              "      <th>202597</th>\n",
              "      <td>202598.jpg</td>\n",
              "      <td>Kyle_Richards</td>\n",
              "    </tr>\n",
              "    <tr>\n",
              "      <th>202598</th>\n",
              "      <td>202599.jpg</td>\n",
              "      <td>Yvette_Vickers</td>\n",
              "    </tr>\n",
              "  </tbody>\n",
              "</table>\n",
              "<p>202599 rows × 2 columns</p>\n",
              "</div>\n",
              "      <button class=\"colab-df-convert\" onclick=\"convertToInteractive('df-8414fdf1-70eb-4dd6-ace9-3d6b0cc7ee7f')\"\n",
              "              title=\"Convert this dataframe to an interactive table.\"\n",
              "              style=\"display:none;\">\n",
              "        \n",
              "  <svg xmlns=\"http://www.w3.org/2000/svg\" height=\"24px\"viewBox=\"0 0 24 24\"\n",
              "       width=\"24px\">\n",
              "    <path d=\"M0 0h24v24H0V0z\" fill=\"none\"/>\n",
              "    <path d=\"M18.56 5.44l.94 2.06.94-2.06 2.06-.94-2.06-.94-.94-2.06-.94 2.06-2.06.94zm-11 1L8.5 8.5l.94-2.06 2.06-.94-2.06-.94L8.5 2.5l-.94 2.06-2.06.94zm10 10l.94 2.06.94-2.06 2.06-.94-2.06-.94-.94-2.06-.94 2.06-2.06.94z\"/><path d=\"M17.41 7.96l-1.37-1.37c-.4-.4-.92-.59-1.43-.59-.52 0-1.04.2-1.43.59L10.3 9.45l-7.72 7.72c-.78.78-.78 2.05 0 2.83L4 21.41c.39.39.9.59 1.41.59.51 0 1.02-.2 1.41-.59l7.78-7.78 2.81-2.81c.8-.78.8-2.07 0-2.86zM5.41 20L4 18.59l7.72-7.72 1.47 1.35L5.41 20z\"/>\n",
              "  </svg>\n",
              "      </button>\n",
              "      \n",
              "  <style>\n",
              "    .colab-df-container {\n",
              "      display:flex;\n",
              "      flex-wrap:wrap;\n",
              "      gap: 12px;\n",
              "    }\n",
              "\n",
              "    .colab-df-convert {\n",
              "      background-color: #E8F0FE;\n",
              "      border: none;\n",
              "      border-radius: 50%;\n",
              "      cursor: pointer;\n",
              "      display: none;\n",
              "      fill: #1967D2;\n",
              "      height: 32px;\n",
              "      padding: 0 0 0 0;\n",
              "      width: 32px;\n",
              "    }\n",
              "\n",
              "    .colab-df-convert:hover {\n",
              "      background-color: #E2EBFA;\n",
              "      box-shadow: 0px 1px 2px rgba(60, 64, 67, 0.3), 0px 1px 3px 1px rgba(60, 64, 67, 0.15);\n",
              "      fill: #174EA6;\n",
              "    }\n",
              "\n",
              "    [theme=dark] .colab-df-convert {\n",
              "      background-color: #3B4455;\n",
              "      fill: #D2E3FC;\n",
              "    }\n",
              "\n",
              "    [theme=dark] .colab-df-convert:hover {\n",
              "      background-color: #434B5C;\n",
              "      box-shadow: 0px 1px 3px 1px rgba(0, 0, 0, 0.15);\n",
              "      filter: drop-shadow(0px 1px 2px rgba(0, 0, 0, 0.3));\n",
              "      fill: #FFFFFF;\n",
              "    }\n",
              "  </style>\n",
              "\n",
              "      <script>\n",
              "        const buttonEl =\n",
              "          document.querySelector('#df-8414fdf1-70eb-4dd6-ace9-3d6b0cc7ee7f button.colab-df-convert');\n",
              "        buttonEl.style.display =\n",
              "          google.colab.kernel.accessAllowed ? 'block' : 'none';\n",
              "\n",
              "        async function convertToInteractive(key) {\n",
              "          const element = document.querySelector('#df-8414fdf1-70eb-4dd6-ace9-3d6b0cc7ee7f');\n",
              "          const dataTable =\n",
              "            await google.colab.kernel.invokeFunction('convertToInteractive',\n",
              "                                                     [key], {});\n",
              "          if (!dataTable) return;\n",
              "\n",
              "          const docLinkHtml = 'Like what you see? Visit the ' +\n",
              "            '<a target=\"_blank\" href=https://colab.research.google.com/notebooks/data_table.ipynb>data table notebook</a>'\n",
              "            + ' to learn more about interactive tables.';\n",
              "          element.innerHTML = '';\n",
              "          dataTable['output_type'] = 'display_data';\n",
              "          await google.colab.output.renderOutput(dataTable, element);\n",
              "          const docLink = document.createElement('div');\n",
              "          docLink.innerHTML = docLinkHtml;\n",
              "          element.appendChild(docLink);\n",
              "        }\n",
              "      </script>\n",
              "    </div>\n",
              "  </div>\n",
              "  "
            ]
          },
          "metadata": {},
          "execution_count": 69
        }
      ]
    },
    {
      "cell_type": "code",
      "source": [
        "target_celeb = 'Bradley_Cooper'\n",
        "images_path = ['img_align_celeba/' + img_id for img_id in celebs[celebs.identity_name == target_celeb]['image_id'].values]\n",
        "images_path"
      ],
      "metadata": {
        "colab": {
          "base_uri": "https://localhost:8080/"
        },
        "id": "qh77XU0hFyyn",
        "outputId": "9156cbe0-3055-49d8-cfda-bf1fbbb45844"
      },
      "execution_count": null,
      "outputs": [
        {
          "output_type": "execute_result",
          "data": {
            "text/plain": [
              "['img_align_celeba/164840.jpg',\n",
              " 'img_align_celeba/165109.jpg',\n",
              " 'img_align_celeba/165404.jpg',\n",
              " 'img_align_celeba/169437.jpg',\n",
              " 'img_align_celeba/170720.jpg',\n",
              " 'img_align_celeba/170949.jpg',\n",
              " 'img_align_celeba/171195.jpg',\n",
              " 'img_align_celeba/172694.jpg',\n",
              " 'img_align_celeba/173445.jpg',\n",
              " 'img_align_celeba/175386.jpg',\n",
              " 'img_align_celeba/175421.jpg',\n",
              " 'img_align_celeba/175602.jpg',\n",
              " 'img_align_celeba/176118.jpg',\n",
              " 'img_align_celeba/176321.jpg',\n",
              " 'img_align_celeba/176371.jpg',\n",
              " 'img_align_celeba/178444.jpg',\n",
              " 'img_align_celeba/179086.jpg',\n",
              " 'img_align_celeba/180632.jpg',\n",
              " 'img_align_celeba/181356.jpg',\n",
              " 'img_align_celeba/181377.jpg']"
            ]
          },
          "metadata": {},
          "execution_count": 72
        }
      ]
    },
    {
      "cell_type": "code",
      "source": [
        "predicted_name, distances, user_names = face_verification(images_path, images_path[0])"
      ],
      "metadata": {
        "colab": {
          "base_uri": "https://localhost:8080/"
        },
        "id": "6BpmiVi0OYks",
        "outputId": "c77c7848-e83e-4ee1-ff93-d2dbfbfc6aaf"
      },
      "execution_count": null,
      "outputs": [
        {
          "output_type": "stream",
          "name": "stdout",
          "text": [
            "1/1 [==============================] - 0s 52ms/step\n",
            "distance: [[0.2418532]]\n",
            "1/1 [==============================] - 0s 75ms/step\n",
            "distance: [[0.21688248]]\n",
            "1/1 [==============================] - 0s 88ms/step\n",
            "distance: [[0.2760787]]\n",
            "1/1 [==============================] - 0s 55ms/step\n",
            "distance: [[0.20494094]]\n",
            "1/1 [==============================] - 0s 79ms/step\n",
            "distance: [[0.39615977]]\n",
            "1/1 [==============================] - 0s 43ms/step\n",
            "distance: [[0.38304982]]\n",
            "1/1 [==============================] - 0s 43ms/step\n",
            "distance: [[0.31326574]]\n",
            "1/1 [==============================] - 0s 41ms/step\n",
            "distance: [[0.4006151]]\n",
            "1/1 [==============================] - 0s 64ms/step\n",
            "distance: [[0.27643174]]\n",
            "1/1 [==============================] - 0s 41ms/step\n",
            "distance: [[0.29109508]]\n",
            "1/1 [==============================] - 0s 49ms/step\n",
            "distance: [[0.37771755]]\n",
            "1/1 [==============================] - 0s 45ms/step\n",
            "distance: [[0.33139092]]\n",
            "1/1 [==============================] - 0s 39ms/step\n",
            "distance: [[0.5189017]]\n",
            "1/1 [==============================] - 0s 52ms/step\n",
            "distance: [[0.433142]]\n",
            "1/1 [==============================] - 0s 41ms/step\n",
            "distance: [[0.5084663]]\n",
            "1/1 [==============================] - 0s 40ms/step\n",
            "distance: [[0.31144482]]\n",
            "1/1 [==============================] - 0s 53ms/step\n",
            "distance: [[0.40072483]]\n",
            "1/1 [==============================] - 0s 50ms/step\n",
            "distance: [[0.30643213]]\n",
            "1/1 [==============================] - 0s 48ms/step\n",
            "distance: [[0.3254732]]\n"
          ]
        }
      ]
    },
    {
      "cell_type": "code",
      "source": [
        "distances"
      ],
      "metadata": {
        "colab": {
          "base_uri": "https://localhost:8080/"
        },
        "id": "6TF0g4adP276",
        "outputId": "6ad33788-c091-45aa-d17f-774191b26077"
      },
      "execution_count": null,
      "outputs": [
        {
          "output_type": "execute_result",
          "data": {
            "text/plain": [
              "[0.2418532,\n",
              " 0.21688248,\n",
              " 0.2760787,\n",
              " 0.20494094,\n",
              " 0.39615977,\n",
              " 0.38304982,\n",
              " 0.31326574,\n",
              " 0.4006151,\n",
              " 0.27643174,\n",
              " 0.29109508,\n",
              " 0.37771755,\n",
              " 0.33139092,\n",
              " 0.5189017,\n",
              " 0.433142,\n",
              " 0.5084663,\n",
              " 0.31144482,\n",
              " 0.40072483,\n",
              " 0.30643213,\n",
              " 0.3254732]"
            ]
          },
          "metadata": {},
          "execution_count": 99
        }
      ]
    },
    {
      "cell_type": "code",
      "source": [
        "predicted_name, distances, similatiries, user_names = face_verification(glob('img_align_celeba/*')[:1000], images_path[0])"
      ],
      "metadata": {
        "colab": {
          "base_uri": "https://localhost:8080/"
        },
        "id": "jaiw1eDmQmh9",
        "outputId": "c3467aa4-4a4a-41b0-a140-c3499a43f721"
      },
      "execution_count": null,
      "outputs": [
        {
          "output_type": "stream",
          "name": "stderr",
          "text": [
            "100%|██████████| 1000/1000 [01:41<00:00,  9.86it/s]\n"
          ]
        }
      ]
    },
    {
      "cell_type": "code",
      "source": [
        "predicted_name in"
      ],
      "metadata": {
        "colab": {
          "base_uri": "https://localhost:8080/",
          "height": 35
        },
        "id": "TZTaIRfSSrqk",
        "outputId": "2c3bd4d7-2159-45cc-a842-c18330b77da4"
      },
      "execution_count": null,
      "outputs": [
        {
          "output_type": "execute_result",
          "data": {
            "text/plain": [
              "'100483'"
            ],
            "application/vnd.google.colaboratory.intrinsic+json": {
              "type": "string"
            }
          },
          "metadata": {},
          "execution_count": 113
        }
      ]
    },
    {
      "cell_type": "code",
      "source": [
        "images_path"
      ],
      "metadata": {
        "colab": {
          "base_uri": "https://localhost:8080/"
        },
        "id": "qyqwrhRcTAyv",
        "outputId": "36ecd69b-66e5-4f46-ca49-89d23b087803"
      },
      "execution_count": null,
      "outputs": [
        {
          "output_type": "execute_result",
          "data": {
            "text/plain": [
              "['img_align_celeba/164840.jpg',\n",
              " 'img_align_celeba/165109.jpg',\n",
              " 'img_align_celeba/165404.jpg',\n",
              " 'img_align_celeba/169437.jpg',\n",
              " 'img_align_celeba/170720.jpg',\n",
              " 'img_align_celeba/170949.jpg',\n",
              " 'img_align_celeba/171195.jpg',\n",
              " 'img_align_celeba/172694.jpg',\n",
              " 'img_align_celeba/173445.jpg',\n",
              " 'img_align_celeba/175386.jpg',\n",
              " 'img_align_celeba/175421.jpg',\n",
              " 'img_align_celeba/175602.jpg',\n",
              " 'img_align_celeba/176118.jpg',\n",
              " 'img_align_celeba/176321.jpg',\n",
              " 'img_align_celeba/176371.jpg',\n",
              " 'img_align_celeba/178444.jpg',\n",
              " 'img_align_celeba/179086.jpg',\n",
              " 'img_align_celeba/180632.jpg',\n",
              " 'img_align_celeba/181356.jpg',\n",
              " 'img_align_celeba/181377.jpg']"
            ]
          },
          "metadata": {},
          "execution_count": 114
        }
      ]
    },
    {
      "cell_type": "markdown",
      "source": [],
      "metadata": {
        "id": "BtBD2geR5i68"
      }
    },
    {
      "cell_type": "code",
      "source": [
        "def preprocess_image_for_test(path):\n",
        "    img = Image.open(path)\n",
        "    img = img.resize((218, 178))\n",
        "    img = img.convert(\"RGB\")\n",
        "    img = np.asarray(img) / 255.0\n",
        "    img = img[:, :, :3]\n",
        "    return img\n",
        "# test_img = '/content/drive/MyDrive/AC221/Facial_Recognition_Project/test_faces/biden_test.jpeg'\n",
        "# preprocess_image_for_test(test_img)"
      ],
      "metadata": {
        "id": "mfWAlBfT5iKX"
      },
      "execution_count": null,
      "outputs": []
    },
    {
      "cell_type": "code",
      "source": [
        "def face_verification(face_db_path, test_img_path):\n",
        "    test_img = preprocess_image_for_test(test_img_path)\n",
        "    distances, user_names = [], []\n",
        "    if not os.path.exists(face_db_path):\n",
        "        raise FileNotFoundError('Face database path not found!')\n",
        "    for root, dirs, files in os.walk(face_db_path):\n",
        "        for file_ in files:\n",
        "            if '.jpeg' in file_ or '.png' in file_:\n",
        "                left_image = preprocess_image_for_test(face_db_path+'/'+file_)\n",
        "                distance = model.predict([left_image.reshape((1, 218, 178, 3)), test_img.reshape((1, 218, 178, 3))])\n",
        "                print('distance:', distance)\n",
        "                distances.append(distance[0][0])\n",
        "                user_names.append(file_.split('.')[0])\n",
        "    predicted_name = user_names[np.argmin(distances)]\n",
        "    return predicted_name"
      ],
      "metadata": {
        "id": "7D2qKaFh5mdk"
      },
      "execution_count": null,
      "outputs": []
    },
    {
      "cell_type": "markdown",
      "source": [
        "# Other"
      ],
      "metadata": {
        "id": "LH_MtURm9yqD"
      }
    },
    {
      "cell_type": "code",
      "source": [
        "for\n",
        "x_df, y_df = load_image([paired_data_df['X1'], paired_data_df['X2']], paired_data_df['label'])"
      ],
      "metadata": {
        "id": "TgysceWhToP5",
        "colab": {
          "base_uri": "https://localhost:8080/",
          "height": 133
        },
        "outputId": "5707311f-78fd-4e0f-c596-5572c9926e00"
      },
      "execution_count": null,
      "outputs": [
        {
          "output_type": "error",
          "ename": "SyntaxError",
          "evalue": "ignored",
          "traceback": [
            "\u001b[0;36m  File \u001b[0;32m\"<ipython-input-34-e00ca30fb0e9>\"\u001b[0;36m, line \u001b[0;32m1\u001b[0m\n\u001b[0;31m    for\u001b[0m\n\u001b[0m        ^\u001b[0m\n\u001b[0;31mSyntaxError\u001b[0m\u001b[0;31m:\u001b[0m invalid syntax\n"
          ]
        }
      ]
    },
    {
      "cell_type": "code",
      "source": [
        "model"
      ],
      "metadata": {
        "colab": {
          "base_uri": "https://localhost:8080/"
        },
        "id": "MtiQRKNDzbUp",
        "outputId": "8884351c-29fd-4747-cdb7-cf027663825b"
      },
      "execution_count": null,
      "outputs": [
        {
          "output_type": "execute_result",
          "data": {
            "text/plain": [
              "<keras.engine.functional.Functional at 0x7fbbf2aecfa0>"
            ]
          },
          "metadata": {},
          "execution_count": 60
        }
      ]
    },
    {
      "cell_type": "code",
      "source": [
        "# history = model.fit(dataset, epochs=1, batch_size=batch_size)\n",
        "history = model.fit([paired_data_df['X1'], paired_data_df['X2']], paired_data_df['label'], epochs=1, batch_size=batch_size)"
      ],
      "metadata": {
        "colab": {
          "base_uri": "https://localhost:8080/",
          "height": 514
        },
        "id": "KsosIBFE8Pxt",
        "outputId": "82977f61-2411-448b-9203-2ce5e73f9932"
      },
      "execution_count": null,
      "outputs": [
        {
          "output_type": "stream",
          "name": "stdout",
          "text": [
            "Tensor(\"ExpandDims:0\", shape=(None, 1), dtype=int64)\n",
            "Tensor(\"model_18/output_layer/Sqrt:0\", shape=(None, 1), dtype=float32)\n",
            "(None, 1) (None, 1) (None, 1)\n"
          ]
        },
        {
          "output_type": "error",
          "ename": "TypeError",
          "evalue": "ignored",
          "traceback": [
            "\u001b[0;31m---------------------------------------------------------------------------\u001b[0m",
            "\u001b[0;31mTypeError\u001b[0m                                 Traceback (most recent call last)",
            "\u001b[0;32m<ipython-input-84-b013b88be0b3>\u001b[0m in \u001b[0;36m<cell line: 2>\u001b[0;34m()\u001b[0m\n\u001b[1;32m      1\u001b[0m \u001b[0;31m# history = model.fit(dataset, epochs=1, batch_size=batch_size)\u001b[0m\u001b[0;34m\u001b[0m\u001b[0;34m\u001b[0m\u001b[0m\n\u001b[0;32m----> 2\u001b[0;31m \u001b[0mhistory\u001b[0m \u001b[0;34m=\u001b[0m \u001b[0mmodel\u001b[0m\u001b[0;34m.\u001b[0m\u001b[0mfit\u001b[0m\u001b[0;34m(\u001b[0m\u001b[0mdataset\u001b[0m\u001b[0;34m,\u001b[0m \u001b[0mepochs\u001b[0m\u001b[0;34m=\u001b[0m\u001b[0;36m1\u001b[0m\u001b[0;34m,\u001b[0m \u001b[0mbatch_size\u001b[0m\u001b[0;34m=\u001b[0m\u001b[0mbatch_size\u001b[0m\u001b[0;34m)\u001b[0m\u001b[0;34m\u001b[0m\u001b[0;34m\u001b[0m\u001b[0m\n\u001b[0m",
            "\u001b[0;32m/usr/local/lib/python3.9/dist-packages/keras/utils/traceback_utils.py\u001b[0m in \u001b[0;36merror_handler\u001b[0;34m(*args, **kwargs)\u001b[0m\n\u001b[1;32m     68\u001b[0m             \u001b[0;31m# To get the full stack trace, call:\u001b[0m\u001b[0;34m\u001b[0m\u001b[0;34m\u001b[0m\u001b[0m\n\u001b[1;32m     69\u001b[0m             \u001b[0;31m# `tf.debugging.disable_traceback_filtering()`\u001b[0m\u001b[0;34m\u001b[0m\u001b[0;34m\u001b[0m\u001b[0m\n\u001b[0;32m---> 70\u001b[0;31m             \u001b[0;32mraise\u001b[0m \u001b[0me\u001b[0m\u001b[0;34m.\u001b[0m\u001b[0mwith_traceback\u001b[0m\u001b[0;34m(\u001b[0m\u001b[0mfiltered_tb\u001b[0m\u001b[0;34m)\u001b[0m \u001b[0;32mfrom\u001b[0m \u001b[0;32mNone\u001b[0m\u001b[0;34m\u001b[0m\u001b[0;34m\u001b[0m\u001b[0m\n\u001b[0m\u001b[1;32m     71\u001b[0m         \u001b[0;32mfinally\u001b[0m\u001b[0;34m:\u001b[0m\u001b[0;34m\u001b[0m\u001b[0;34m\u001b[0m\u001b[0m\n\u001b[1;32m     72\u001b[0m             \u001b[0;32mdel\u001b[0m \u001b[0mfiltered_tb\u001b[0m\u001b[0;34m\u001b[0m\u001b[0;34m\u001b[0m\u001b[0m\n",
            "\u001b[0;32m/usr/local/lib/python3.9/dist-packages/keras/engine/training.py\u001b[0m in \u001b[0;36mtf__train_function\u001b[0;34m(iterator)\u001b[0m\n\u001b[1;32m     13\u001b[0m                 \u001b[0;32mtry\u001b[0m\u001b[0;34m:\u001b[0m\u001b[0;34m\u001b[0m\u001b[0;34m\u001b[0m\u001b[0m\n\u001b[1;32m     14\u001b[0m                     \u001b[0mdo_return\u001b[0m \u001b[0;34m=\u001b[0m \u001b[0;32mTrue\u001b[0m\u001b[0;34m\u001b[0m\u001b[0;34m\u001b[0m\u001b[0m\n\u001b[0;32m---> 15\u001b[0;31m                     \u001b[0mretval_\u001b[0m \u001b[0;34m=\u001b[0m \u001b[0mag__\u001b[0m\u001b[0;34m.\u001b[0m\u001b[0mconverted_call\u001b[0m\u001b[0;34m(\u001b[0m\u001b[0mag__\u001b[0m\u001b[0;34m.\u001b[0m\u001b[0mld\u001b[0m\u001b[0;34m(\u001b[0m\u001b[0mstep_function\u001b[0m\u001b[0;34m)\u001b[0m\u001b[0;34m,\u001b[0m \u001b[0;34m(\u001b[0m\u001b[0mag__\u001b[0m\u001b[0;34m.\u001b[0m\u001b[0mld\u001b[0m\u001b[0;34m(\u001b[0m\u001b[0mself\u001b[0m\u001b[0;34m)\u001b[0m\u001b[0;34m,\u001b[0m \u001b[0mag__\u001b[0m\u001b[0;34m.\u001b[0m\u001b[0mld\u001b[0m\u001b[0;34m(\u001b[0m\u001b[0miterator\u001b[0m\u001b[0;34m)\u001b[0m\u001b[0;34m)\u001b[0m\u001b[0;34m,\u001b[0m \u001b[0;32mNone\u001b[0m\u001b[0;34m,\u001b[0m \u001b[0mfscope\u001b[0m\u001b[0;34m)\u001b[0m\u001b[0;34m\u001b[0m\u001b[0;34m\u001b[0m\u001b[0m\n\u001b[0m\u001b[1;32m     16\u001b[0m                 \u001b[0;32mexcept\u001b[0m\u001b[0;34m:\u001b[0m\u001b[0;34m\u001b[0m\u001b[0;34m\u001b[0m\u001b[0m\n\u001b[1;32m     17\u001b[0m                     \u001b[0mdo_return\u001b[0m \u001b[0;34m=\u001b[0m \u001b[0;32mFalse\u001b[0m\u001b[0;34m\u001b[0m\u001b[0;34m\u001b[0m\u001b[0m\n",
            "\u001b[0;32m/tmp/__autograph_generated_file680brltm.py\u001b[0m in \u001b[0;36mtf__contrastive_loss\u001b[0;34m(y_true, y_pred)\u001b[0m\n\u001b[1;32m     16\u001b[0m                 \u001b[0;32mtry\u001b[0m\u001b[0;34m:\u001b[0m\u001b[0;34m\u001b[0m\u001b[0;34m\u001b[0m\u001b[0m\n\u001b[1;32m     17\u001b[0m                     \u001b[0mdo_return\u001b[0m \u001b[0;34m=\u001b[0m \u001b[0;32mTrue\u001b[0m\u001b[0;34m\u001b[0m\u001b[0;34m\u001b[0m\u001b[0m\n\u001b[0;32m---> 18\u001b[0;31m                     \u001b[0mretval_\u001b[0m \u001b[0;34m=\u001b[0m \u001b[0mag__\u001b[0m\u001b[0;34m.\u001b[0m\u001b[0mld\u001b[0m\u001b[0;34m(\u001b[0m\u001b[0my_true\u001b[0m\u001b[0;34m)\u001b[0m \u001b[0;34m*\u001b[0m \u001b[0mag__\u001b[0m\u001b[0;34m.\u001b[0m\u001b[0mld\u001b[0m\u001b[0;34m(\u001b[0m\u001b[0msquare_pred\u001b[0m\u001b[0;34m)\u001b[0m \u001b[0;34m+\u001b[0m \u001b[0;34m(\u001b[0m\u001b[0;36m1\u001b[0m \u001b[0;34m-\u001b[0m \u001b[0mag__\u001b[0m\u001b[0;34m.\u001b[0m\u001b[0mld\u001b[0m\u001b[0;34m(\u001b[0m\u001b[0my_true\u001b[0m\u001b[0;34m)\u001b[0m\u001b[0;34m)\u001b[0m \u001b[0;34m*\u001b[0m \u001b[0mag__\u001b[0m\u001b[0;34m.\u001b[0m\u001b[0mld\u001b[0m\u001b[0;34m(\u001b[0m\u001b[0mmargin_square\u001b[0m\u001b[0;34m)\u001b[0m\u001b[0;34m\u001b[0m\u001b[0;34m\u001b[0m\u001b[0m\n\u001b[0m\u001b[1;32m     19\u001b[0m                 \u001b[0;32mexcept\u001b[0m\u001b[0;34m:\u001b[0m\u001b[0;34m\u001b[0m\u001b[0;34m\u001b[0m\u001b[0m\n\u001b[1;32m     20\u001b[0m                     \u001b[0mdo_return\u001b[0m \u001b[0;34m=\u001b[0m \u001b[0;32mFalse\u001b[0m\u001b[0;34m\u001b[0m\u001b[0;34m\u001b[0m\u001b[0m\n",
            "\u001b[0;31mTypeError\u001b[0m: in user code:\n\n    File \"/usr/local/lib/python3.9/dist-packages/keras/engine/training.py\", line 1284, in train_function  *\n        return step_function(self, iterator)\n    File \"<ipython-input-82-4ed97474cb33>\", line 8, in contrastive_loss  *\n        return (y_true * square_pred + (1 - y_true) * margin_square)\n\n    TypeError: Input 'y' of 'Mul' Op has type float32 that does not match type int64 of argument 'x'.\n"
          ]
        }
      ]
    },
    {
      "cell_type": "code",
      "source": [
        "# history = model.fit(dataset, epochs=1, batch_size=batch_size)\n",
        "history = model.fit([paired_data_df['X1'], paired_data_df['X2']], paired_data_df['label'],\n",
        "                    epochs=1, batch_size=batch_size)"
      ],
      "metadata": {
        "colab": {
          "base_uri": "https://localhost:8080/",
          "height": 764
        },
        "id": "wGCnwwz2PUM4",
        "outputId": "658ff630-03f9-42f8-b346-1383496fff8a"
      },
      "execution_count": null,
      "outputs": [
        {
          "output_type": "error",
          "ename": "ValueError",
          "evalue": "ignored",
          "traceback": [
            "\u001b[0;31m---------------------------------------------------------------------------\u001b[0m",
            "\u001b[0;31mValueError\u001b[0m                                Traceback (most recent call last)",
            "\u001b[0;32m<ipython-input-83-ea8b8b8873eb>\u001b[0m in \u001b[0;36m<cell line: 2>\u001b[0;34m()\u001b[0m\n\u001b[1;32m      1\u001b[0m \u001b[0;31m# history = model.fit(dataset, epochs=1, batch_size=batch_size)\u001b[0m\u001b[0;34m\u001b[0m\u001b[0;34m\u001b[0m\u001b[0m\n\u001b[0;32m----> 2\u001b[0;31m history = model.fit([paired_data_df['X1'], paired_data_df['X2']], paired_data_df['label'], \n\u001b[0m\u001b[1;32m      3\u001b[0m                     epochs=1, batch_size=batch_size)\n",
            "\u001b[0;32m/usr/local/lib/python3.9/dist-packages/keras/utils/traceback_utils.py\u001b[0m in \u001b[0;36merror_handler\u001b[0;34m(*args, **kwargs)\u001b[0m\n\u001b[1;32m     68\u001b[0m             \u001b[0;31m# To get the full stack trace, call:\u001b[0m\u001b[0;34m\u001b[0m\u001b[0;34m\u001b[0m\u001b[0m\n\u001b[1;32m     69\u001b[0m             \u001b[0;31m# `tf.debugging.disable_traceback_filtering()`\u001b[0m\u001b[0;34m\u001b[0m\u001b[0;34m\u001b[0m\u001b[0m\n\u001b[0;32m---> 70\u001b[0;31m             \u001b[0;32mraise\u001b[0m \u001b[0me\u001b[0m\u001b[0;34m.\u001b[0m\u001b[0mwith_traceback\u001b[0m\u001b[0;34m(\u001b[0m\u001b[0mfiltered_tb\u001b[0m\u001b[0;34m)\u001b[0m \u001b[0;32mfrom\u001b[0m \u001b[0;32mNone\u001b[0m\u001b[0;34m\u001b[0m\u001b[0;34m\u001b[0m\u001b[0m\n\u001b[0m\u001b[1;32m     71\u001b[0m         \u001b[0;32mfinally\u001b[0m\u001b[0;34m:\u001b[0m\u001b[0;34m\u001b[0m\u001b[0;34m\u001b[0m\u001b[0m\n\u001b[1;32m     72\u001b[0m             \u001b[0;32mdel\u001b[0m \u001b[0mfiltered_tb\u001b[0m\u001b[0;34m\u001b[0m\u001b[0;34m\u001b[0m\u001b[0m\n",
            "\u001b[0;32m/usr/local/lib/python3.9/dist-packages/keras/engine/training.py\u001b[0m in \u001b[0;36mtf__train_function\u001b[0;34m(iterator)\u001b[0m\n\u001b[1;32m     13\u001b[0m                 \u001b[0;32mtry\u001b[0m\u001b[0;34m:\u001b[0m\u001b[0;34m\u001b[0m\u001b[0;34m\u001b[0m\u001b[0m\n\u001b[1;32m     14\u001b[0m                     \u001b[0mdo_return\u001b[0m \u001b[0;34m=\u001b[0m \u001b[0;32mTrue\u001b[0m\u001b[0;34m\u001b[0m\u001b[0;34m\u001b[0m\u001b[0m\n\u001b[0;32m---> 15\u001b[0;31m                     \u001b[0mretval_\u001b[0m \u001b[0;34m=\u001b[0m \u001b[0mag__\u001b[0m\u001b[0;34m.\u001b[0m\u001b[0mconverted_call\u001b[0m\u001b[0;34m(\u001b[0m\u001b[0mag__\u001b[0m\u001b[0;34m.\u001b[0m\u001b[0mld\u001b[0m\u001b[0;34m(\u001b[0m\u001b[0mstep_function\u001b[0m\u001b[0;34m)\u001b[0m\u001b[0;34m,\u001b[0m \u001b[0;34m(\u001b[0m\u001b[0mag__\u001b[0m\u001b[0;34m.\u001b[0m\u001b[0mld\u001b[0m\u001b[0;34m(\u001b[0m\u001b[0mself\u001b[0m\u001b[0;34m)\u001b[0m\u001b[0;34m,\u001b[0m \u001b[0mag__\u001b[0m\u001b[0;34m.\u001b[0m\u001b[0mld\u001b[0m\u001b[0;34m(\u001b[0m\u001b[0miterator\u001b[0m\u001b[0;34m)\u001b[0m\u001b[0;34m)\u001b[0m\u001b[0;34m,\u001b[0m \u001b[0;32mNone\u001b[0m\u001b[0;34m,\u001b[0m \u001b[0mfscope\u001b[0m\u001b[0;34m)\u001b[0m\u001b[0;34m\u001b[0m\u001b[0;34m\u001b[0m\u001b[0m\n\u001b[0m\u001b[1;32m     16\u001b[0m                 \u001b[0;32mexcept\u001b[0m\u001b[0;34m:\u001b[0m\u001b[0;34m\u001b[0m\u001b[0;34m\u001b[0m\u001b[0m\n\u001b[1;32m     17\u001b[0m                     \u001b[0mdo_return\u001b[0m \u001b[0;34m=\u001b[0m \u001b[0;32mFalse\u001b[0m\u001b[0;34m\u001b[0m\u001b[0;34m\u001b[0m\u001b[0m\n",
            "\u001b[0;31mValueError\u001b[0m: in user code:\n\n    File \"/usr/local/lib/python3.9/dist-packages/keras/engine/training.py\", line 1284, in train_function  *\n        return step_function(self, iterator)\n    File \"/usr/local/lib/python3.9/dist-packages/keras/engine/training.py\", line 1268, in step_function  **\n        outputs = model.distribute_strategy.run(run_step, args=(data,))\n    File \"/usr/local/lib/python3.9/dist-packages/keras/engine/training.py\", line 1249, in run_step  **\n        outputs = model.train_step(data)\n    File \"/usr/local/lib/python3.9/dist-packages/keras/engine/training.py\", line 1050, in train_step\n        y_pred = self(x, training=True)\n    File \"/usr/local/lib/python3.9/dist-packages/keras/utils/traceback_utils.py\", line 70, in error_handler\n        raise e.with_traceback(filtered_tb) from None\n    File \"/usr/local/lib/python3.9/dist-packages/keras/engine/input_spec.py\", line 280, in assert_input_compatibility\n        raise ValueError(\n\n    ValueError: Exception encountered when calling layer 'model_17' (type Functional).\n    \n    Input 0 of layer \"first_base_dense\" is incompatible with the layer: expected axis -1 of input shape to have value 116412, but received input with shape (None, 1)\n    \n    Call arguments received by layer 'model_17' (type Functional):\n      • inputs=tf.Tensor(shape=(None, 1), dtype=float32)\n      • training=True\n      • mask=None\n"
          ]
        }
      ]
    },
    {
      "cell_type": "code",
      "source": [],
      "metadata": {
        "id": "4PJDTLMdP2XI"
      },
      "execution_count": null,
      "outputs": []
    }
  ]
}